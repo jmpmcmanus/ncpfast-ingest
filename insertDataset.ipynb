{
 "cells": [
  {
   "cell_type": "code",
   "execution_count": 1,
   "metadata": {},
   "outputs": [],
   "source": [
    "import psycopg2\n",
    "from psycopg2.extensions import AsIs\n",
    "from uuid import uuid4\n",
    "import sqlite3, pdb\n",
    "import pandas as pd"
   ]
  },
  {
   "cell_type": "code",
   "execution_count": 2,
   "metadata": {},
   "outputs": [],
   "source": [
    "def insert_data_series():\n",
    "    try:\n",
    "        conn = psycopg2.connect(\"dbname='ncpfast_dev' user='django_dev' host='ncpfast-db.edc.renci.org' port='5432' password='MKeeJn9zEqs2T9wm4V3UX'\")\n",
    "        cur = conn.cursor()\n",
    "        \n",
    "        cur.execute(\"\"\"SET CLIENT_ENCODING TO UTF8\"\"\")\n",
    "        cur.execute(\"\"\"SET STANDARD_CONFORMING_STRINGS TO ON\"\"\")\n",
    "        cur.execute(\"\"\"BEGIN\"\"\")\n",
    "        cur.execute(\"\"\"INSERT INTO data_series (data_series_id, data_series_title, data_series_description, \n",
    "                                                created_at, updated_at)\n",
    "                       VALUES (6,'Team 1 stream and well measurements', 'TBD', \n",
    "                                '2010-12-22 11:30:00.000000-05', '2010-12-22 11:30:00.000000-05')\"\"\")\n",
    "        cur.execute(\"\"\"COMMIT\"\"\")\n",
    "        cur.execute(\"\"\"ANALYZE data_series\"\"\")            \n",
    "    except (Exception, psycopg2.DatabaseError) as error:\n",
    "        print(error)\n",
    "    finally:\n",
    "        if cur is not None:\n",
    "            cur.close()\n",
    "        if conn is not None:\n",
    "            conn.close()"
   ]
  },
  {
   "cell_type": "code",
   "execution_count": 3,
   "metadata": {},
   "outputs": [],
   "source": [
    "#insert_data_series()"
   ]
  },
  {
   "cell_type": "code",
   "execution_count": 4,
   "metadata": {},
   "outputs": [],
   "source": [
    "def insert_datasets():\n",
    "    try:\n",
    "        conn = psycopg2.connect(\"dbname='ncpfast_dev' user='django_dev' host='ncpfast-db.edc.renci.org' port='5432' password='MKeeJn9zEqs2T9wm4V3UX'\")\n",
    "        cur = conn.cursor()\n",
    "        \n",
    "        cur.execute(\"\"\"SET CLIENT_ENCODING TO UTF8\"\"\")\n",
    "        cur.execute(\"\"\"SET STANDARD_CONFORMING_STRINGS TO ON\"\"\")\n",
    "        cur.execute(\"\"\"BEGIN\"\"\")\n",
    "        datasetuuid = str(uuid4())\n",
    "        cur.execute(\"\"\"INSERT INTO datasets (datasetuuid,datasetcode,datasettitle,datasetabstract,\n",
    "                                             dataseries,created_at,updated_at)\n",
    "                       VALUES (%(vdatasetuuid)s,'T1Data_Knappe','TBD','TBD',\n",
    "                               6,'2010-12-22 11:30:00.000000-05','2010-12-22 11:30:00.000000-05')\"\"\",\n",
    "                   {'vdatasetuuid': datasetuuid})\n",
    "        datasetuuid = str(uuid4())\n",
    "        cur.execute(\"\"\"INSERT INTO datasets (datasetuuid,datasetcode,datasettitle,datasetabstract,\n",
    "                                             dataseries,created_at,updated_at)\n",
    "                       VALUES (%(vdatasetuuid)s,'T1Data_Ferguson','TBD','TBD',\n",
    "                               6,'2010-12-22 11:30:00.000000-05','2010-12-22 11:30:00.000000-05')\"\"\",\n",
    "                   {'vdatasetuuid': datasetuuid})\n",
    "        cur.execute(\"\"\"COMMIT\"\"\")\n",
    "        cur.execute(\"\"\"ANALYZE datasets\"\"\")            \n",
    "    except (Exception, psycopg2.DatabaseError) as error:\n",
    "        print(error)\n",
    "    finally:\n",
    "        if cur is not None:\n",
    "            cur.close()\n",
    "        if conn is not None:\n",
    "            conn.close()"
   ]
  },
  {
   "cell_type": "code",
   "execution_count": 5,
   "metadata": {},
   "outputs": [],
   "source": [
    "#insert_datasets()"
   ]
  },
  {
   "cell_type": "code",
   "execution_count": null,
   "metadata": {},
   "outputs": [],
   "source": []
  }
 ],
 "metadata": {
  "kernelspec": {
   "display_name": "Python 3",
   "language": "python",
   "name": "python3"
  },
  "language_info": {
   "codemirror_mode": {
    "name": "ipython",
    "version": 3
   },
   "file_extension": ".py",
   "mimetype": "text/x-python",
   "name": "python",
   "nbconvert_exporter": "python",
   "pygments_lexer": "ipython3",
   "version": "3.7.8"
  }
 },
 "nbformat": 4,
 "nbformat_minor": 4
}
