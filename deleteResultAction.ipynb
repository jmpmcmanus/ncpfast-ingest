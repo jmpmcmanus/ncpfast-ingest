{
 "cells": [
  {
   "cell_type": "code",
   "execution_count": 1,
   "metadata": {},
   "outputs": [],
   "source": [
    "import psycopg2"
   ]
  },
  {
   "cell_type": "code",
   "execution_count": 2,
   "metadata": {},
   "outputs": [],
   "source": [
    "def deleteResultsMethods():\n",
    "    try:\n",
    "        conn = psycopg2.connect(\"dbname='ncpfast_dev' user='django_dev' host='ncpfast-db.edc.renci.org' port='5432'\")\n",
    "        cur = conn.cursor()\n",
    "        \n",
    "        cur.execute(\"\"\"SET CLIENT_ENCODING TO UTF8\"\"\")\n",
    "        cur.execute(\"\"\"SET STANDARD_CONFORMING_STRINGS TO ON\"\"\")\n",
    "        cur.execute(\"\"\"BEGIN\"\"\")\n",
    "\n",
    "        cur.execute(\"\"\"DELETE FROM actions a\n",
    "                       USING feature_actions fa,\n",
    "                             results r,\n",
    "                             dataset_results dr,\n",
    "                             datasets ds,\n",
    "                             sampling_features sf \n",
    "                       WHERE a.actionid=fa.actionid\n",
    "                         AND fa.featureactionid=r.featureactionid\n",
    "                         AND r.resultid=dr.resultid\n",
    "                         AND dr.datasetid=ds.datasetid\n",
    "                         AND fa.samplingfeatureid=sf.samplingfeatureid\n",
    "                         AND ds.datasetcode LIKE 'T1Data_%'\"\"\")\n",
    "\n",
    "        cur.execute(\"\"\"DELETE FROM feature_actions fa\n",
    "                       USING results r,\n",
    "                             dataset_results dr,\n",
    "                             datasets ds,\n",
    "                             sampling_features sf\n",
    "                       WHERE fa.featureactionid=r.featureactionid\n",
    "                         AND r.resultid=dr.resultid\n",
    "                         AND dr.datasetid=ds.datasetid    \n",
    "                         AND fa.samplingfeatureid=sf.samplingfeatureid\n",
    "                         AND ds.datasetcode LIKE 'T1Data_%'\"\"\")\n",
    "\n",
    "        cur.execute(\"\"\"DELETE FROM measurement_result_values rv \n",
    "                       USING results r,\n",
    "                             dataset_results dr,\n",
    "                             datasets ds \n",
    "                       WHERE rv.resultid=r.resultid\n",
    "                         AND r.resultid=dr.resultid\n",
    "                         AND dr.datasetid=ds.datasetid\n",
    "                         AND ds.datasetcode LIKE 'T1Data_%'\"\"\")\n",
    "\n",
    "        cur.execute(\"\"\"DELETE FROM results r\n",
    "                       USING dataset_results dr,\n",
    "                             datasets ds \n",
    "                       WHERE r.resultid=dr.resultid\n",
    "                         AND dr.datasetid=ds.datasetid\n",
    "                         AND ds.datasetcode LIKE 'T1Data_%'\"\"\") \n",
    "\n",
    "        cur.execute(\"\"\"DELETE FROM dataset_results dr\n",
    "                       USING datasets ds \n",
    "                       WHERE dr.datasetid=ds.datasetid\n",
    "                         AND ds.datasetcode LIKE 'T1Data_%'\"\"\") \n",
    "\n",
    "        cur.execute(\"\"\"DELETE FROM datasets ds\n",
    "                       WHERE ds.datasetcode LIKE 'T1Data_%'\"\"\") \n",
    "\n",
    "        conn.commit()\n",
    "        cur.execute(\"\"\"ANALYZE actions\"\"\")\n",
    "        cur.execute(\"\"\"ANALYZE feature_actions\"\"\")\n",
    "        cur.execute(\"\"\"ANALYZE measurement_result_values\"\"\")\n",
    "        cur.execute(\"\"\"ANALYZE results\"\"\")\n",
    "        cur.execute(\"\"\"ANALYZE dataset_results\"\"\")\n",
    "        cur.execute(\"\"\"ANALYZE datasets\"\"\")\n",
    "\n",
    "    except (Exception, psycopg2.DatabaseError) as error:\n",
    "        print(error)\n",
    "    finally:\n",
    "        if cur is not None:\n",
    "            cur.close()\n",
    "        if conn is not None:\n",
    "            conn.close() \n",
    "            "
   ]
  },
  {
   "cell_type": "code",
   "execution_count": 3,
   "metadata": {},
   "outputs": [],
   "source": [
    "deleteResultsMethods()"
   ]
  },
  {
   "cell_type": "code",
   "execution_count": null,
   "metadata": {},
   "outputs": [],
   "source": []
  }
 ],
 "metadata": {
  "kernelspec": {
   "display_name": "Python 3",
   "language": "python",
   "name": "python3"
  },
  "language_info": {
   "codemirror_mode": {
    "name": "ipython",
    "version": 3
   },
   "file_extension": ".py",
   "mimetype": "text/x-python",
   "name": "python",
   "nbconvert_exporter": "python",
   "pygments_lexer": "ipython3",
   "version": "3.7.8"
  }
 },
 "nbformat": 4,
 "nbformat_minor": 4
}
