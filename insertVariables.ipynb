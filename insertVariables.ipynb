{
 "cells": [
  {
   "cell_type": "code",
   "execution_count": 1,
   "metadata": {},
   "outputs": [],
   "source": [
    "import psycopg2\n",
    "from psycopg2.extensions import AsIs\n",
    "import sqlite3, pdb\n",
    "import pandas as pd"
   ]
  },
  {
   "cell_type": "code",
   "execution_count": 2,
   "metadata": {},
   "outputs": [
    {
     "data": {
      "text/html": [
       "<div>\n",
       "<style scoped>\n",
       "    .dataframe tbody tr th:only-of-type {\n",
       "        vertical-align: middle;\n",
       "    }\n",
       "\n",
       "    .dataframe tbody tr th {\n",
       "        vertical-align: top;\n",
       "    }\n",
       "\n",
       "    .dataframe thead th {\n",
       "        text-align: right;\n",
       "    }\n",
       "</style>\n",
       "<table border=\"1\" class=\"dataframe\">\n",
       "  <thead>\n",
       "    <tr style=\"text-align: right;\">\n",
       "      <th></th>\n",
       "      <th>status</th>\n",
       "      <th>analyte_name</th>\n",
       "      <th>cas</th>\n",
       "    </tr>\n",
       "  </thead>\n",
       "  <tbody>\n",
       "    <tr>\n",
       "      <th>0</th>\n",
       "      <td>NO</td>\n",
       "      <td>10:2 Fluorotelomer sulfonic acid</td>\n",
       "      <td>120226-60-0</td>\n",
       "    </tr>\n",
       "    <tr>\n",
       "      <th>1</th>\n",
       "      <td>NO</td>\n",
       "      <td>11-chloroeicosafluoro-3-oxanonane-1-sulfonate</td>\n",
       "      <td>83329-89-9</td>\n",
       "    </tr>\n",
       "    <tr>\n",
       "      <th>2</th>\n",
       "      <td>NO</td>\n",
       "      <td>4:2 Fluorotelomer sulfonic acid</td>\n",
       "      <td>757124-72-4</td>\n",
       "    </tr>\n",
       "    <tr>\n",
       "      <th>3</th>\n",
       "      <td>NO</td>\n",
       "      <td>6:2 Fluorotelomer sulfonic acid</td>\n",
       "      <td>27619-97-2</td>\n",
       "    </tr>\n",
       "    <tr>\n",
       "      <th>4</th>\n",
       "      <td>NO</td>\n",
       "      <td>8:2 Fluorotelomer sulfonic acid</td>\n",
       "      <td>39108-34-4</td>\n",
       "    </tr>\n",
       "  </tbody>\n",
       "</table>\n",
       "</div>"
      ],
      "text/plain": [
       "  status                                   analyte_name          cas\n",
       "0     NO               10:2 Fluorotelomer sulfonic acid  120226-60-0\n",
       "1     NO  11-chloroeicosafluoro-3-oxanonane-1-sulfonate   83329-89-9\n",
       "2     NO                4:2 Fluorotelomer sulfonic acid  757124-72-4\n",
       "3     NO                6:2 Fluorotelomer sulfonic acid   27619-97-2\n",
       "4     NO                8:2 Fluorotelomer sulfonic acid   39108-34-4"
      ]
     },
     "execution_count": 2,
     "metadata": {},
     "output_type": "execute_result"
    }
   ],
   "source": [
    "df = pd.read_csv('../ncpfast-db/analyte_cv_no.csv', sep=',')\n",
    "df.head()"
   ]
  },
  {
   "cell_type": "code",
   "execution_count": 3,
   "metadata": {},
   "outputs": [],
   "source": [
    "def insert_cv_variable_names(df):\n",
    "    try:\n",
    "        conn = psycopg2.connect(\"dbname='ncpfast_dev' user='django_dev' host='ncpfast-db.edc.renci.org' port='5432' password='MKeeJn9zEqs2T9wm4V3UX'\")\n",
    "        cur = conn.cursor()\n",
    "        \n",
    "        cur.execute(\"\"\"SET CLIENT_ENCODING TO UTF8\"\"\")\n",
    "        cur.execute(\"\"\"SET STANDARD_CONFORMING_STRINGS TO ON\"\"\")\n",
    "        cur.execute(\"\"\"BEGIN\"\"\")\n",
    "        \n",
    "        for index, row in df.iterrows():\n",
    "            term = row['cas']\n",
    "            name = row['analyte_name']\n",
    "            #print(term,name)\n",
    "            cur.execute(\"\"\"INSERT INTO cv_variable_names (term, name, definition, category)\n",
    "                           VALUES (%(vterm)s, %(vname)s, '999', 'PFAS')\"\"\",\n",
    "                        {'vterm': term,'vname': name})\n",
    "            cur.execute(\"\"\"COMMIT\"\"\")\n",
    "            cur.execute(\"\"\"ANALYZE cv_variable_names\"\"\")            \n",
    "    except (Exception, psycopg2.DatabaseError) as error:\n",
    "        print(error)\n",
    "    finally:\n",
    "        if cur is not None:\n",
    "            cur.close()\n",
    "        if conn is not None:\n",
    "            conn.close()"
   ]
  },
  {
   "cell_type": "code",
   "execution_count": 4,
   "metadata": {},
   "outputs": [],
   "source": [
    "#insert_cv_variable_names(df)"
   ]
  },
  {
   "cell_type": "code",
   "execution_count": 5,
   "metadata": {},
   "outputs": [
    {
     "data": {
      "text/html": [
       "<div>\n",
       "<style scoped>\n",
       "    .dataframe tbody tr th:only-of-type {\n",
       "        vertical-align: middle;\n",
       "    }\n",
       "\n",
       "    .dataframe tbody tr th {\n",
       "        vertical-align: top;\n",
       "    }\n",
       "\n",
       "    .dataframe thead th {\n",
       "        text-align: right;\n",
       "    }\n",
       "</style>\n",
       "<table border=\"1\" class=\"dataframe\">\n",
       "  <thead>\n",
       "    <tr style=\"text-align: right;\">\n",
       "      <th></th>\n",
       "      <th>analyte_name</th>\n",
       "      <th>cas</th>\n",
       "      <th>abbreviation</th>\n",
       "    </tr>\n",
       "  </thead>\n",
       "  <tbody>\n",
       "    <tr>\n",
       "      <th>0</th>\n",
       "      <td>10:2 Fluorotelomer sulfonic acid</td>\n",
       "      <td>120226-60-0</td>\n",
       "      <td>10:2 PFS</td>\n",
       "    </tr>\n",
       "    <tr>\n",
       "      <th>1</th>\n",
       "      <td>11-chloroeicosafluoro-3-oxanonane-1-sulfonate</td>\n",
       "      <td>83329-89-9</td>\n",
       "      <td>F-53B (Minor)</td>\n",
       "    </tr>\n",
       "    <tr>\n",
       "      <th>2</th>\n",
       "      <td>4:2 Fluorotelomer sulfonic acid</td>\n",
       "      <td>757124-72-4</td>\n",
       "      <td>4:2 PFS</td>\n",
       "    </tr>\n",
       "    <tr>\n",
       "      <th>3</th>\n",
       "      <td>6:2 Fluorotelomer sulfonic acid</td>\n",
       "      <td>27619-97-2</td>\n",
       "      <td>6:2 PFS</td>\n",
       "    </tr>\n",
       "    <tr>\n",
       "      <th>4</th>\n",
       "      <td>8:2 Fluorotelomer sulfonic acid</td>\n",
       "      <td>39108-34-4</td>\n",
       "      <td>8:2 PFS</td>\n",
       "    </tr>\n",
       "  </tbody>\n",
       "</table>\n",
       "</div>"
      ],
      "text/plain": [
       "                                    analyte_name          cas   abbreviation\n",
       "0               10:2 Fluorotelomer sulfonic acid  120226-60-0       10:2 PFS\n",
       "1  11-chloroeicosafluoro-3-oxanonane-1-sulfonate   83329-89-9  F-53B (Minor)\n",
       "2                4:2 Fluorotelomer sulfonic acid  757124-72-4        4:2 PFS\n",
       "3                6:2 Fluorotelomer sulfonic acid   27619-97-2        6:2 PFS\n",
       "4                8:2 Fluorotelomer sulfonic acid   39108-34-4        8:2 PFS"
      ]
     },
     "execution_count": 5,
     "metadata": {},
     "output_type": "execute_result"
    }
   ],
   "source": [
    "df = pd.read_csv('../ncpfast-db/analyte_cv_insert.csv')\n",
    "df.head()"
   ]
  },
  {
   "cell_type": "code",
   "execution_count": 6,
   "metadata": {},
   "outputs": [],
   "source": [
    "def insert_variables(df):\n",
    "    try:\n",
    "        conn = psycopg2.connect(\"dbname='ncpfast_dev' user='django_dev' host='ncpfast-db.edc.renci.org' port='5432' password='MKeeJn9zEqs2T9wm4V3UX'\")\n",
    "        cur = conn.cursor()\n",
    "        \n",
    "        cur.execute(\"\"\"SET CLIENT_ENCODING TO UTF8\"\"\")\n",
    "        cur.execute(\"\"\"SET STANDARD_CONFORMING_STRINGS TO ON\"\"\")\n",
    "        cur.execute(\"\"\"BEGIN\"\"\")\n",
    "        \n",
    "        for index, row in df.iterrows():\n",
    "            variablecode = row['abbreviation']\n",
    "            variablenamecv = row['analyte_name']\n",
    "            #print(variablecode,variablenamecv)\n",
    "            cur.execute(\"\"\"INSERT INTO variables (variablecode, variablenamecv, variabletypecv)\n",
    "                           VALUES (%(vvariablecode)s, %(vvariablenamecv)s, 'PFAS')\"\"\",\n",
    "                        {'vvariablecode': variablecode,'vvariablenamecv': variablenamecv})\n",
    "            cur.execute(\"\"\"COMMIT\"\"\")\n",
    "            cur.execute(\"\"\"ANALYZE variables\"\"\")            \n",
    "    except (Exception, psycopg2.DatabaseError) as error:\n",
    "        print(error)\n",
    "    finally:\n",
    "        if cur is not None:\n",
    "            cur.close()\n",
    "        if conn is not None:\n",
    "            conn.close()"
   ]
  },
  {
   "cell_type": "code",
   "execution_count": 7,
   "metadata": {},
   "outputs": [],
   "source": [
    "#insert_variables(df)"
   ]
  },
  {
   "cell_type": "code",
   "execution_count": 8,
   "metadata": {},
   "outputs": [],
   "source": [
    "def insert_units():\n",
    "    try:\n",
    "        conn = psycopg2.connect(\"dbname='ncpfast_dev' user='django_dev' host='ncpfast-db.edc.renci.org' port='5432' password='MKeeJn9zEqs2T9wm4V3UX'\")\n",
    "        cur = conn.cursor()\n",
    "        \n",
    "        cur.execute(\"\"\"SET CLIENT_ENCODING TO UTF8\"\"\")\n",
    "        cur.execute(\"\"\"SET STANDARD_CONFORMING_STRINGS TO ON\"\"\")\n",
    "        cur.execute(\"\"\"BEGIN\"\"\")\n",
    "        cur.execute(\"\"\"INSERT INTO units (unitabbreviation, unitname, unitlink, unittypecv)\n",
    "                       VALUES ('rl_ppt', 'rl parts per trillion', \n",
    "                                'http://his.cuahsi.org/mastercvreg/edit_cv11.aspx?tbl=Units&UnitsID=207', \n",
    "                                'Concentration')\"\"\")\n",
    "        cur.execute(\"\"\"COMMIT\"\"\")\n",
    "        cur.execute(\"\"\"ANALYZE units\"\"\")            \n",
    "    except (Exception, psycopg2.DatabaseError) as error:\n",
    "        print(error)\n",
    "    finally:\n",
    "        if cur is not None:\n",
    "            cur.close()\n",
    "        if conn is not None:\n",
    "            conn.close()"
   ]
  },
  {
   "cell_type": "code",
   "execution_count": 9,
   "metadata": {},
   "outputs": [],
   "source": [
    "#insert_units()"
   ]
  }
 ],
 "metadata": {
  "kernelspec": {
   "display_name": "Python 3",
   "language": "python",
   "name": "python3"
  },
  "language_info": {
   "codemirror_mode": {
    "name": "ipython",
    "version": 3
   },
   "file_extension": ".py",
   "mimetype": "text/x-python",
   "name": "python",
   "nbconvert_exporter": "python",
   "pygments_lexer": "ipython3",
   "version": "3.7.8"
  }
 },
 "nbformat": 4,
 "nbformat_minor": 4
}
