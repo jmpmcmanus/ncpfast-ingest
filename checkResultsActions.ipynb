{
 "cells": [
  {
   "cell_type": "code",
   "execution_count": 1,
   "metadata": {},
   "outputs": [],
   "source": [
    "import psycopg2\n",
    "from psycopg2.extensions import AsIs\n",
    "import pandas as pd\n",
    "import numpy as np"
   ]
  },
  {
   "cell_type": "code",
   "execution_count": 2,
   "metadata": {},
   "outputs": [],
   "source": [
    "def getResults():\n",
    "    try:\n",
    "        conn = psycopg2.connect(\"dbname='ncpfast_dev' user='django_dev' host='ncpfast-db.edc.renci.org' port='5432' password='MKeeJn9zEqs2T9wm4V3UX'\")\n",
    "        cur = conn.cursor()\n",
    "        \n",
    "        cur.execute(\"\"\"SET CLIENT_ENCODING TO UTF8\"\"\")\n",
    "        cur.execute(\"\"\"SET STANDARD_CONFORMING_STRINGS TO ON\"\"\")\n",
    "        cur.execute(\"\"\"BEGIN\"\"\")\n",
    "        cur.execute(\"\"\"SELECT DISTINCT r.resultid, r.resultdatetime, rv.valueid, rv.datavalue, rv.valuedatetime\n",
    "                       FROM results r \n",
    "                       INNER JOIN measurement_result_values rv ON r.resultid=rv.resultid\n",
    "                       INNER JOIN feature_actions fa ON r.featureactionid=fa.featureactionid \n",
    "                       INNER JOIN sampling_features sf ON fa.samplingfeatureid=sf.samplingfeatureid\n",
    "                       WHERE sf.samplingfeaturecode LIKE 'GB%' OR sf.samplingfeaturecode LIKE 'MC%'\"\"\")\n",
    "        rows = cur.fetchall()\n",
    "        \n",
    "        df = pd.DataFrame(columns = ['resultid', 'resultdatetime', 'valueid', 'datavalue', 'valuedatetime']) \n",
    "        \n",
    "        for row in rows:\n",
    "            df = df.append({'resultid': row[0], 'resultdatetime': row[1], 'valueid': row[2], \n",
    "                            'datavalue': row[3], 'valuedatetime': row[4]}, \n",
    "                            ignore_index = True)\n",
    "\n",
    "        return df\n",
    "    \n",
    "    except (Exception, psycopg2.DatabaseError) as error:\n",
    "        print(error)\n",
    "    finally:\n",
    "        if cur is not None:\n",
    "            cur.close()\n",
    "        if conn is not None:\n",
    "            conn.close()"
   ]
  },
  {
   "cell_type": "code",
   "execution_count": 3,
   "metadata": {},
   "outputs": [
    {
     "data": {
      "text/html": [
       "<div>\n",
       "<style scoped>\n",
       "    .dataframe tbody tr th:only-of-type {\n",
       "        vertical-align: middle;\n",
       "    }\n",
       "\n",
       "    .dataframe tbody tr th {\n",
       "        vertical-align: top;\n",
       "    }\n",
       "\n",
       "    .dataframe thead th {\n",
       "        text-align: right;\n",
       "    }\n",
       "</style>\n",
       "<table border=\"1\" class=\"dataframe\">\n",
       "  <thead>\n",
       "    <tr style=\"text-align: right;\">\n",
       "      <th></th>\n",
       "      <th>resultid</th>\n",
       "      <th>resultdatetime</th>\n",
       "      <th>valueid</th>\n",
       "      <th>datavalue</th>\n",
       "      <th>valuedatetime</th>\n",
       "    </tr>\n",
       "  </thead>\n",
       "  <tbody>\n",
       "    <tr>\n",
       "      <th>0</th>\n",
       "      <td>10191</td>\n",
       "      <td>2018-10-22 00:00:00-04:00</td>\n",
       "      <td>202</td>\n",
       "      <td>945.413</td>\n",
       "      <td>2018-10-22 00:00:00-04:00</td>\n",
       "    </tr>\n",
       "    <tr>\n",
       "      <th>1</th>\n",
       "      <td>10194</td>\n",
       "      <td>2018-10-22 00:00:00-04:00</td>\n",
       "      <td>197</td>\n",
       "      <td>25.326</td>\n",
       "      <td>2018-10-22 00:00:00-04:00</td>\n",
       "    </tr>\n",
       "    <tr>\n",
       "      <th>2</th>\n",
       "      <td>10195</td>\n",
       "      <td>2018-10-22 00:00:00-04:00</td>\n",
       "      <td>198</td>\n",
       "      <td>54.794</td>\n",
       "      <td>2018-10-22 00:00:00-04:00</td>\n",
       "    </tr>\n",
       "    <tr>\n",
       "      <th>3</th>\n",
       "      <td>10196</td>\n",
       "      <td>2018-10-22 00:00:00-04:00</td>\n",
       "      <td>195</td>\n",
       "      <td>8.455</td>\n",
       "      <td>2018-10-22 00:00:00-04:00</td>\n",
       "    </tr>\n",
       "    <tr>\n",
       "      <th>4</th>\n",
       "      <td>10197</td>\n",
       "      <td>2018-10-22 00:00:00-04:00</td>\n",
       "      <td>201</td>\n",
       "      <td>357.060</td>\n",
       "      <td>2018-10-22 00:00:00-04:00</td>\n",
       "    </tr>\n",
       "  </tbody>\n",
       "</table>\n",
       "</div>"
      ],
      "text/plain": [
       "  resultid            resultdatetime valueid  datavalue  \\\n",
       "0    10191 2018-10-22 00:00:00-04:00     202    945.413   \n",
       "1    10194 2018-10-22 00:00:00-04:00     197     25.326   \n",
       "2    10195 2018-10-22 00:00:00-04:00     198     54.794   \n",
       "3    10196 2018-10-22 00:00:00-04:00     195      8.455   \n",
       "4    10197 2018-10-22 00:00:00-04:00     201    357.060   \n",
       "\n",
       "              valuedatetime  \n",
       "0 2018-10-22 00:00:00-04:00  \n",
       "1 2018-10-22 00:00:00-04:00  \n",
       "2 2018-10-22 00:00:00-04:00  \n",
       "3 2018-10-22 00:00:00-04:00  \n",
       "4 2018-10-22 00:00:00-04:00  "
      ]
     },
     "execution_count": 3,
     "metadata": {},
     "output_type": "execute_result"
    }
   ],
   "source": [
    "dfdb = getResults()\n",
    "dfdb.head()"
   ]
  },
  {
   "cell_type": "code",
   "execution_count": 4,
   "metadata": {},
   "outputs": [
    {
     "data": {
      "text/plain": [
       "381"
      ]
     },
     "execution_count": 4,
     "metadata": {},
     "output_type": "execute_result"
    }
   ],
   "source": [
    "len(np.unique(np.array(dfdb['valueid'])))"
   ]
  },
  {
   "cell_type": "code",
   "execution_count": 5,
   "metadata": {},
   "outputs": [
    {
     "data": {
      "text/plain": [
       "381"
      ]
     },
     "execution_count": 5,
     "metadata": {},
     "output_type": "execute_result"
    }
   ],
   "source": [
    "len(dfdb['valueid'])"
   ]
  },
  {
   "cell_type": "code",
   "execution_count": 6,
   "metadata": {},
   "outputs": [
    {
     "data": {
      "text/plain": [
       "381"
      ]
     },
     "execution_count": 6,
     "metadata": {},
     "output_type": "execute_result"
    }
   ],
   "source": [
    "len(np.unique(np.array(dfdb['resultid'])))"
   ]
  },
  {
   "cell_type": "code",
   "execution_count": 7,
   "metadata": {},
   "outputs": [
    {
     "data": {
      "text/plain": [
       "381"
      ]
     },
     "execution_count": 7,
     "metadata": {},
     "output_type": "execute_result"
    }
   ],
   "source": [
    "len(dfdb['resultid'])"
   ]
  },
  {
   "cell_type": "code",
   "execution_count": 8,
   "metadata": {},
   "outputs": [],
   "source": [
    "def getActions():\n",
    "    try:\n",
    "        conn = psycopg2.connect(\"dbname='ncpfast_dev' user='django_dev' host='ncpfast-db.edc.renci.org' port='5432' password='MKeeJn9zEqs2T9wm4V3UX'\")\n",
    "        cur = conn.cursor()\n",
    "        \n",
    "        cur.execute(\"\"\"SET CLIENT_ENCODING TO UTF8\"\"\")\n",
    "        cur.execute(\"\"\"SET STANDARD_CONFORMING_STRINGS TO ON\"\"\")\n",
    "        cur.execute(\"\"\"BEGIN\"\"\")\n",
    "        cur.execute(\"\"\"SELECT DISTINCT r.resultid, r.resultdatetime, rv.valueid, rv.datavalue, rv.valuedatetime,\n",
    "                                       a.actionid, a.begin_datetime, a.end_datetime, a.methodid\n",
    "                       FROM results r \n",
    "                       INNER JOIN measurement_result_values rv ON r.resultid=rv.resultid\n",
    "                       INNER JOIN feature_actions fa ON r.featureactionid=fa.featureactionid\n",
    "                       INNER JOIN actions a ON fa.actionid=a.actionid\n",
    "                       INNER JOIN sampling_features sf ON fa.samplingfeatureid=sf.samplingfeatureid\n",
    "                       WHERE sf.samplingfeaturecode LIKE 'GB%' OR sf.samplingfeaturecode LIKE 'MC%'\"\"\")\n",
    "        rows = cur.fetchall()\n",
    "        \n",
    "        df = pd.DataFrame(columns = ['resultid', 'resultdatetime', 'valueid', 'datavalue', 'valuedatetime',\n",
    "                                     'actionid', 'begin_datetime', 'end_datetime', 'methodid']) \n",
    "        \n",
    "        for row in rows:\n",
    "            df = df.append({'resultid': row[0], 'resultdatetime': row[1], 'valueid': row[2], \n",
    "                            'datavalue': row[3], 'valuedatetime': row[4], 'actionid': row[5], \n",
    "                            'begin_datetime': row[6], 'end_datetime': row[7], 'methodid': row[8]}, \n",
    "                            ignore_index = True)\n",
    "\n",
    "        return df\n",
    "    \n",
    "    except (Exception, psycopg2.DatabaseError) as error:\n",
    "        print(error)\n",
    "    finally:\n",
    "        if cur is not None:\n",
    "            cur.close()\n",
    "        if conn is not None:\n",
    "            conn.close()"
   ]
  },
  {
   "cell_type": "code",
   "execution_count": 9,
   "metadata": {},
   "outputs": [
    {
     "data": {
      "text/html": [
       "<div>\n",
       "<style scoped>\n",
       "    .dataframe tbody tr th:only-of-type {\n",
       "        vertical-align: middle;\n",
       "    }\n",
       "\n",
       "    .dataframe tbody tr th {\n",
       "        vertical-align: top;\n",
       "    }\n",
       "\n",
       "    .dataframe thead th {\n",
       "        text-align: right;\n",
       "    }\n",
       "</style>\n",
       "<table border=\"1\" class=\"dataframe\">\n",
       "  <thead>\n",
       "    <tr style=\"text-align: right;\">\n",
       "      <th></th>\n",
       "      <th>resultid</th>\n",
       "      <th>resultdatetime</th>\n",
       "      <th>valueid</th>\n",
       "      <th>datavalue</th>\n",
       "      <th>valuedatetime</th>\n",
       "      <th>actionid</th>\n",
       "      <th>begin_datetime</th>\n",
       "      <th>end_datetime</th>\n",
       "      <th>methodid</th>\n",
       "    </tr>\n",
       "  </thead>\n",
       "  <tbody>\n",
       "    <tr>\n",
       "      <th>0</th>\n",
       "      <td>10191</td>\n",
       "      <td>2018-10-22 00:00:00-04:00</td>\n",
       "      <td>202</td>\n",
       "      <td>945.413</td>\n",
       "      <td>2018-10-22 00:00:00-04:00</td>\n",
       "      <td>118</td>\n",
       "      <td>2018-10-22 00:00:00-04:00</td>\n",
       "      <td>2018-10-22 00:00:00-04:00</td>\n",
       "      <td>10004</td>\n",
       "    </tr>\n",
       "    <tr>\n",
       "      <th>1</th>\n",
       "      <td>10194</td>\n",
       "      <td>2018-10-22 00:00:00-04:00</td>\n",
       "      <td>197</td>\n",
       "      <td>25.326</td>\n",
       "      <td>2018-10-22 00:00:00-04:00</td>\n",
       "      <td>118</td>\n",
       "      <td>2018-10-22 00:00:00-04:00</td>\n",
       "      <td>2018-10-22 00:00:00-04:00</td>\n",
       "      <td>10004</td>\n",
       "    </tr>\n",
       "    <tr>\n",
       "      <th>2</th>\n",
       "      <td>10195</td>\n",
       "      <td>2018-10-22 00:00:00-04:00</td>\n",
       "      <td>198</td>\n",
       "      <td>54.794</td>\n",
       "      <td>2018-10-22 00:00:00-04:00</td>\n",
       "      <td>118</td>\n",
       "      <td>2018-10-22 00:00:00-04:00</td>\n",
       "      <td>2018-10-22 00:00:00-04:00</td>\n",
       "      <td>10004</td>\n",
       "    </tr>\n",
       "    <tr>\n",
       "      <th>3</th>\n",
       "      <td>10196</td>\n",
       "      <td>2018-10-22 00:00:00-04:00</td>\n",
       "      <td>195</td>\n",
       "      <td>8.455</td>\n",
       "      <td>2018-10-22 00:00:00-04:00</td>\n",
       "      <td>118</td>\n",
       "      <td>2018-10-22 00:00:00-04:00</td>\n",
       "      <td>2018-10-22 00:00:00-04:00</td>\n",
       "      <td>10004</td>\n",
       "    </tr>\n",
       "    <tr>\n",
       "      <th>4</th>\n",
       "      <td>10197</td>\n",
       "      <td>2018-10-22 00:00:00-04:00</td>\n",
       "      <td>201</td>\n",
       "      <td>357.060</td>\n",
       "      <td>2018-10-22 00:00:00-04:00</td>\n",
       "      <td>118</td>\n",
       "      <td>2018-10-22 00:00:00-04:00</td>\n",
       "      <td>2018-10-22 00:00:00-04:00</td>\n",
       "      <td>10004</td>\n",
       "    </tr>\n",
       "  </tbody>\n",
       "</table>\n",
       "</div>"
      ],
      "text/plain": [
       "  resultid            resultdatetime valueid  datavalue  \\\n",
       "0    10191 2018-10-22 00:00:00-04:00     202    945.413   \n",
       "1    10194 2018-10-22 00:00:00-04:00     197     25.326   \n",
       "2    10195 2018-10-22 00:00:00-04:00     198     54.794   \n",
       "3    10196 2018-10-22 00:00:00-04:00     195      8.455   \n",
       "4    10197 2018-10-22 00:00:00-04:00     201    357.060   \n",
       "\n",
       "              valuedatetime actionid            begin_datetime  \\\n",
       "0 2018-10-22 00:00:00-04:00      118 2018-10-22 00:00:00-04:00   \n",
       "1 2018-10-22 00:00:00-04:00      118 2018-10-22 00:00:00-04:00   \n",
       "2 2018-10-22 00:00:00-04:00      118 2018-10-22 00:00:00-04:00   \n",
       "3 2018-10-22 00:00:00-04:00      118 2018-10-22 00:00:00-04:00   \n",
       "4 2018-10-22 00:00:00-04:00      118 2018-10-22 00:00:00-04:00   \n",
       "\n",
       "               end_datetime methodid  \n",
       "0 2018-10-22 00:00:00-04:00    10004  \n",
       "1 2018-10-22 00:00:00-04:00    10004  \n",
       "2 2018-10-22 00:00:00-04:00    10004  \n",
       "3 2018-10-22 00:00:00-04:00    10004  \n",
       "4 2018-10-22 00:00:00-04:00    10004  "
      ]
     },
     "execution_count": 9,
     "metadata": {},
     "output_type": "execute_result"
    }
   ],
   "source": [
    "dfdb = getActions()\n",
    "dfdb.head()"
   ]
  },
  {
   "cell_type": "code",
   "execution_count": 10,
   "metadata": {},
   "outputs": [
    {
     "data": {
      "text/plain": [
       "30"
      ]
     },
     "execution_count": 10,
     "metadata": {},
     "output_type": "execute_result"
    }
   ],
   "source": [
    "len(np.unique(np.array(dfdb['actionid'])))"
   ]
  },
  {
   "cell_type": "code",
   "execution_count": 11,
   "metadata": {},
   "outputs": [
    {
     "data": {
      "text/plain": [
       "381"
      ]
     },
     "execution_count": 11,
     "metadata": {},
     "output_type": "execute_result"
    }
   ],
   "source": [
    "len(dfdb['actionid'])"
   ]
  },
  {
   "cell_type": "code",
   "execution_count": 12,
   "metadata": {},
   "outputs": [
    {
     "data": {
      "text/plain": [
       "1"
      ]
     },
     "execution_count": 12,
     "metadata": {},
     "output_type": "execute_result"
    }
   ],
   "source": [
    "len(np.unique(np.array(dfdb['end_datetime'])))"
   ]
  },
  {
   "cell_type": "code",
   "execution_count": 13,
   "metadata": {},
   "outputs": [],
   "source": [
    "def getFeatures():\n",
    "    try:\n",
    "        conn = psycopg2.connect(\"dbname='ncpfast_dev' user='django_dev' host='ncpfast-db.edc.renci.org' port='5432' password='MKeeJn9zEqs2T9wm4V3UX'\")\n",
    "        cur = conn.cursor()\n",
    "        \n",
    "        cur.execute(\"\"\"SET CLIENT_ENCODING TO UTF8\"\"\")\n",
    "        cur.execute(\"\"\"SET STANDARD_CONFORMING_STRINGS TO ON\"\"\")\n",
    "        cur.execute(\"\"\"BEGIN\"\"\")\n",
    "        cur.execute(\"\"\"SELECT DISTINCT r.resultid, r.resultdatetime, rv.valueid, rv.datavalue, rv.valuedatetime,\n",
    "                                       a.actionid, a.begin_datetime, a.end_datetime, a.methodid,\n",
    "                                        sf.samplingfeatureid, ST_X(ST_AsText(sf.featuregeometry))\n",
    "                       FROM results r \n",
    "                       INNER JOIN measurement_result_values rv ON r.resultid=rv.resultid\n",
    "                       INNER JOIN feature_actions fa ON r.featureactionid=fa.featureactionid\n",
    "                       INNER JOIN actions a ON fa.actionid=a.actionid\n",
    "                       INNER JOIN sampling_features sf ON fa.samplingfeatureid=sf.samplingfeatureid\n",
    "                       WHERE sf.samplingfeaturecode LIKE 'GB%' OR sf.samplingfeaturecode LIKE 'MC%'\"\"\")\n",
    "        rows = cur.fetchall()\n",
    "        \n",
    "        df = pd.DataFrame(columns = ['resultid', 'resultdatetime', 'valueid', 'datavalue', 'valuedatetime',\n",
    "                                     'actionid', 'begin_datetime', 'end_datetime', 'methodid',\n",
    "                                      'samplingfeatureid', 'lon']) \n",
    "        \n",
    "        for row in rows:\n",
    "            df = df.append({'resultid': row[0], 'resultdatetime': row[1], 'valueid': row[2], \n",
    "                            'datavalue': row[3], 'valuedatetime': row[4], 'actionid': row[5], \n",
    "                            'begin_datetime': row[6], 'end_datetime': row[7], 'methodid': row[8],\n",
    "                            'samplingfeatureid': row[9], 'lon': row[10]},\n",
    "                            ignore_index = True)\n",
    "\n",
    "        return df\n",
    "    \n",
    "    except (Exception, psycopg2.DatabaseError) as error:\n",
    "        print(error)\n",
    "    finally:\n",
    "        if cur is not None:\n",
    "            cur.close()\n",
    "        if conn is not None:\n",
    "            conn.close()"
   ]
  },
  {
   "cell_type": "code",
   "execution_count": 14,
   "metadata": {},
   "outputs": [
    {
     "data": {
      "text/html": [
       "<div>\n",
       "<style scoped>\n",
       "    .dataframe tbody tr th:only-of-type {\n",
       "        vertical-align: middle;\n",
       "    }\n",
       "\n",
       "    .dataframe tbody tr th {\n",
       "        vertical-align: top;\n",
       "    }\n",
       "\n",
       "    .dataframe thead th {\n",
       "        text-align: right;\n",
       "    }\n",
       "</style>\n",
       "<table border=\"1\" class=\"dataframe\">\n",
       "  <thead>\n",
       "    <tr style=\"text-align: right;\">\n",
       "      <th></th>\n",
       "      <th>resultid</th>\n",
       "      <th>resultdatetime</th>\n",
       "      <th>valueid</th>\n",
       "      <th>datavalue</th>\n",
       "      <th>valuedatetime</th>\n",
       "      <th>actionid</th>\n",
       "      <th>begin_datetime</th>\n",
       "      <th>end_datetime</th>\n",
       "      <th>methodid</th>\n",
       "      <th>samplingfeatureid</th>\n",
       "      <th>lon</th>\n",
       "    </tr>\n",
       "  </thead>\n",
       "  <tbody>\n",
       "    <tr>\n",
       "      <th>0</th>\n",
       "      <td>10191</td>\n",
       "      <td>2018-10-22 00:00:00-04:00</td>\n",
       "      <td>202</td>\n",
       "      <td>945.413</td>\n",
       "      <td>2018-10-22 00:00:00-04:00</td>\n",
       "      <td>118</td>\n",
       "      <td>2018-10-22 00:00:00-04:00</td>\n",
       "      <td>2018-10-22 00:00:00-04:00</td>\n",
       "      <td>10004</td>\n",
       "      <td>18847</td>\n",
       "      <td>None</td>\n",
       "    </tr>\n",
       "    <tr>\n",
       "      <th>1</th>\n",
       "      <td>10194</td>\n",
       "      <td>2018-10-22 00:00:00-04:00</td>\n",
       "      <td>197</td>\n",
       "      <td>25.326</td>\n",
       "      <td>2018-10-22 00:00:00-04:00</td>\n",
       "      <td>118</td>\n",
       "      <td>2018-10-22 00:00:00-04:00</td>\n",
       "      <td>2018-10-22 00:00:00-04:00</td>\n",
       "      <td>10004</td>\n",
       "      <td>18847</td>\n",
       "      <td>None</td>\n",
       "    </tr>\n",
       "    <tr>\n",
       "      <th>2</th>\n",
       "      <td>10195</td>\n",
       "      <td>2018-10-22 00:00:00-04:00</td>\n",
       "      <td>198</td>\n",
       "      <td>54.794</td>\n",
       "      <td>2018-10-22 00:00:00-04:00</td>\n",
       "      <td>118</td>\n",
       "      <td>2018-10-22 00:00:00-04:00</td>\n",
       "      <td>2018-10-22 00:00:00-04:00</td>\n",
       "      <td>10004</td>\n",
       "      <td>18847</td>\n",
       "      <td>None</td>\n",
       "    </tr>\n",
       "    <tr>\n",
       "      <th>3</th>\n",
       "      <td>10196</td>\n",
       "      <td>2018-10-22 00:00:00-04:00</td>\n",
       "      <td>195</td>\n",
       "      <td>8.455</td>\n",
       "      <td>2018-10-22 00:00:00-04:00</td>\n",
       "      <td>118</td>\n",
       "      <td>2018-10-22 00:00:00-04:00</td>\n",
       "      <td>2018-10-22 00:00:00-04:00</td>\n",
       "      <td>10004</td>\n",
       "      <td>18847</td>\n",
       "      <td>None</td>\n",
       "    </tr>\n",
       "    <tr>\n",
       "      <th>4</th>\n",
       "      <td>10197</td>\n",
       "      <td>2018-10-22 00:00:00-04:00</td>\n",
       "      <td>201</td>\n",
       "      <td>357.060</td>\n",
       "      <td>2018-10-22 00:00:00-04:00</td>\n",
       "      <td>118</td>\n",
       "      <td>2018-10-22 00:00:00-04:00</td>\n",
       "      <td>2018-10-22 00:00:00-04:00</td>\n",
       "      <td>10004</td>\n",
       "      <td>18847</td>\n",
       "      <td>None</td>\n",
       "    </tr>\n",
       "  </tbody>\n",
       "</table>\n",
       "</div>"
      ],
      "text/plain": [
       "  resultid            resultdatetime valueid  datavalue  \\\n",
       "0    10191 2018-10-22 00:00:00-04:00     202    945.413   \n",
       "1    10194 2018-10-22 00:00:00-04:00     197     25.326   \n",
       "2    10195 2018-10-22 00:00:00-04:00     198     54.794   \n",
       "3    10196 2018-10-22 00:00:00-04:00     195      8.455   \n",
       "4    10197 2018-10-22 00:00:00-04:00     201    357.060   \n",
       "\n",
       "              valuedatetime actionid            begin_datetime  \\\n",
       "0 2018-10-22 00:00:00-04:00      118 2018-10-22 00:00:00-04:00   \n",
       "1 2018-10-22 00:00:00-04:00      118 2018-10-22 00:00:00-04:00   \n",
       "2 2018-10-22 00:00:00-04:00      118 2018-10-22 00:00:00-04:00   \n",
       "3 2018-10-22 00:00:00-04:00      118 2018-10-22 00:00:00-04:00   \n",
       "4 2018-10-22 00:00:00-04:00      118 2018-10-22 00:00:00-04:00   \n",
       "\n",
       "               end_datetime methodid samplingfeatureid   lon  \n",
       "0 2018-10-22 00:00:00-04:00    10004             18847  None  \n",
       "1 2018-10-22 00:00:00-04:00    10004             18847  None  \n",
       "2 2018-10-22 00:00:00-04:00    10004             18847  None  \n",
       "3 2018-10-22 00:00:00-04:00    10004             18847  None  \n",
       "4 2018-10-22 00:00:00-04:00    10004             18847  None  "
      ]
     },
     "execution_count": 14,
     "metadata": {},
     "output_type": "execute_result"
    }
   ],
   "source": [
    "dfdb = getFeatures()\n",
    "dfdb.head()"
   ]
  },
  {
   "cell_type": "code",
   "execution_count": 15,
   "metadata": {},
   "outputs": [
    {
     "data": {
      "text/plain": [
       "array([None, None, None, None, None, None, None, None, None, None, None,\n",
       "       None, None, None, None, None, None, None, None, None, None, None,\n",
       "       None, None, None, None, None, None, None, None, None, None, None,\n",
       "       None, None, None, None, None, None, None, None, None, None, None,\n",
       "       None, None, None, None, None, None, None, None, None, None, None,\n",
       "       None, None, None, None, None, None, None, None, None, None, None,\n",
       "       None, None, None, None, None, None, None, None, None, None, None,\n",
       "       None, None, None, None, None, None, None, None, None, None, None,\n",
       "       None, None, None, None, None, None, None, None, None, None, None,\n",
       "       None, None, None, None, None, None, None, None, None, None, None,\n",
       "       None, None, None, None, None, None, None, None, None, None, None,\n",
       "       None, None, None, None, None, None, None, None, None, None, None,\n",
       "       None, None, None, None, None, None, None, None, None, None, None,\n",
       "       None, None, None, None, None, None, None, None, None, None, None,\n",
       "       None, None, None, None, None, None, None, None, None, None, None,\n",
       "       None, None, None, None, None, None, None, None, None, None, None,\n",
       "       None, None, None, None, None, None, None, None, None, None, None,\n",
       "       None, None, None, None, None, None, None, None, None, None, None,\n",
       "       None, None, None, None, None, None, None, None, None, None, None,\n",
       "       None, None, None, None, None, None, None, None, None, None, None,\n",
       "       None, None, None, None, None, None, None, None, None, None, None,\n",
       "       None, None, None, None, None, None, None, None, None, None, None,\n",
       "       None, None, None, None, None, None, None, None, None, None, None,\n",
       "       None, None, None, None, None, None, None, None, None, None, None,\n",
       "       None, None, None, None, None, None, None, None, None, None, None,\n",
       "       None, None, None, None, None, None, None, None, None, None, None,\n",
       "       None, None, None, None, None, None, None, None, None, None, None,\n",
       "       None, None, None, None, None, None, None, None, None, None, None,\n",
       "       None, None, None, None, None, None, None, None, None, None, None,\n",
       "       None, None, None, None, None, None, None, None, None, None, None,\n",
       "       None, None, None, None, None, None, None, None, None, None, None,\n",
       "       None, None, None, None, None, None, None, None, None, None, None,\n",
       "       None, None, None, None, None, None, None, None, None, None, None,\n",
       "       None, None, None, None, None, None, None, None, None, None, None,\n",
       "       None, None, None, None, None, None, None], dtype=object)"
      ]
     },
     "execution_count": 15,
     "metadata": {},
     "output_type": "execute_result"
    }
   ],
   "source": [
    "np.array(dfdb['lon'])"
   ]
  },
  {
   "cell_type": "code",
   "execution_count": 16,
   "metadata": {},
   "outputs": [
    {
     "data": {
      "text/plain": [
       "30"
      ]
     },
     "execution_count": 16,
     "metadata": {},
     "output_type": "execute_result"
    }
   ],
   "source": [
    "len(np.unique(np.array(dfdb['samplingfeatureid'])))"
   ]
  },
  {
   "cell_type": "code",
   "execution_count": null,
   "metadata": {},
   "outputs": [],
   "source": []
  }
 ],
 "metadata": {
  "kernelspec": {
   "display_name": "Python 3",
   "language": "python",
   "name": "python3"
  },
  "language_info": {
   "codemirror_mode": {
    "name": "ipython",
    "version": 3
   },
   "file_extension": ".py",
   "mimetype": "text/x-python",
   "name": "python",
   "nbconvert_exporter": "python",
   "pygments_lexer": "ipython3",
   "version": "3.7.8"
  }
 },
 "nbformat": 4,
 "nbformat_minor": 4
}
