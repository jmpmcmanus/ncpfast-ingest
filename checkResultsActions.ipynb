{
 "cells": [
  {
   "cell_type": "code",
   "execution_count": 1,
   "metadata": {},
   "outputs": [],
   "source": [
    "import psycopg2\n",
    "from psycopg2.extensions import AsIs\n",
    "import pandas as pd\n",
    "import numpy as np"
   ]
  },
  {
   "cell_type": "code",
   "execution_count": 2,
   "metadata": {},
   "outputs": [],
   "source": [
    "def getResults():\n",
    "    try:\n",
    "        conn = psycopg2.connect(\"dbname='ncpfast_dev' user='django_dev' host='ncpfast-db.edc.renci.org' port='5432'\")\n",
    "        cur = conn.cursor()\n",
    "        \n",
    "        cur.execute(\"\"\"SET CLIENT_ENCODING TO UTF8\"\"\")\n",
    "        cur.execute(\"\"\"SET STANDARD_CONFORMING_STRINGS TO ON\"\"\")\n",
    "        cur.execute(\"\"\"BEGIN\"\"\")\n",
    "        cur.execute(\"\"\"SELECT r.resultid, sf.samplingfeatureid, r.resultdatetime, r.featureactionid, rv.valueid, \n",
    "                                       rv.datavalue, rv.valuedatetime, sf.samplingfeaturecode,\n",
    "                                       ds.datasetcode\n",
    "                       FROM results r \n",
    "                       INNER JOIN measurement_result_values rv ON r.resultid=rv.resultid\n",
    "                       INNER JOIN feature_actions fa ON r.featureactionid=fa.featureactionid \n",
    "                       INNER JOIN dataset_results dr ON r.resultid=dr.resultid\n",
    "                       INNER JOIN datasets ds ON dr.datasetid=ds.datasetid\n",
    "                       INNER JOIN sampling_features sf ON fa.samplingfeatureid=sf.samplingfeatureid\n",
    "                       WHERE ds.datasetcode LIKE 'T1Data_%'\"\"\")\n",
    "        rows = cur.fetchall()\n",
    "        #WHERE sf.samplingfeaturecode LIKE 'NC%' ORDER BY featureactionid\n",
    "        #WHERE sf.samplingfeaturecode LIKE 'GB%' OR sf.samplingfeaturecode LIKE 'MC%'\n",
    "        #WHERE sf.samplingfeaturecode LIKE 'GB%' OR sf.samplingfeaturecode LIKE 'MC%'\n",
    "        df = pd.DataFrame(columns = ['resultid', 'samplingfeatureid', 'resultdatetime', 'featureactionid', \n",
    "                                     'valueid', 'datavalue', 'valuedatetime', 'samplingfeaturecode', \n",
    "                                     'datasetcode']) \n",
    "        \n",
    "        for row in rows:\n",
    "            df = df.append({'resultid': row[0], 'samplingfeatureid': row[1], 'resultdatetime': row[2], \n",
    "                            'featureactionid': row[3], 'valueid': row[4], 'datavalue': row[5], \n",
    "                            'valuedatetime': row[6], 'samplingfeaturecode': row[7], 'datasetcode': row[8]}, \n",
    "                            ignore_index = True)\n",
    "\n",
    "        return df\n",
    "    \n",
    "    except (Exception, psycopg2.DatabaseError) as error:\n",
    "        print(error)\n",
    "    finally:\n",
    "        if cur is not None:\n",
    "            cur.close()\n",
    "        if conn is not None:\n",
    "            conn.close()"
   ]
  },
  {
   "cell_type": "code",
   "execution_count": 4,
   "metadata": {},
   "outputs": [
    {
     "data": {
      "text/html": [
       "<div>\n",
       "<style scoped>\n",
       "    .dataframe tbody tr th:only-of-type {\n",
       "        vertical-align: middle;\n",
       "    }\n",
       "\n",
       "    .dataframe tbody tr th {\n",
       "        vertical-align: top;\n",
       "    }\n",
       "\n",
       "    .dataframe thead th {\n",
       "        text-align: right;\n",
       "    }\n",
       "</style>\n",
       "<table border=\"1\" class=\"dataframe\">\n",
       "  <thead>\n",
       "    <tr style=\"text-align: right;\">\n",
       "      <th></th>\n",
       "      <th>resultid</th>\n",
       "      <th>samplingfeatureid</th>\n",
       "      <th>resultdatetime</th>\n",
       "      <th>featureactionid</th>\n",
       "      <th>valueid</th>\n",
       "      <th>datavalue</th>\n",
       "      <th>valuedatetime</th>\n",
       "      <th>samplingfeaturecode</th>\n",
       "      <th>datasetcode</th>\n",
       "    </tr>\n",
       "  </thead>\n",
       "  <tbody>\n",
       "    <tr>\n",
       "      <th>0</th>\n",
       "      <td>61338</td>\n",
       "      <td>21196</td>\n",
       "      <td>2019-07-03 16:00:00+00:00</td>\n",
       "      <td>3653</td>\n",
       "      <td>51306</td>\n",
       "      <td>1.556</td>\n",
       "      <td>2019-07-03 16:00:00+00:00</td>\n",
       "      <td>NC0195118_Specimen</td>\n",
       "      <td>T1Data_Knappe_NC0195118_Specimen</td>\n",
       "    </tr>\n",
       "    <tr>\n",
       "      <th>1</th>\n",
       "      <td>61339</td>\n",
       "      <td>21196</td>\n",
       "      <td>2019-07-03 16:00:00+00:00</td>\n",
       "      <td>3653</td>\n",
       "      <td>51307</td>\n",
       "      <td>6.010</td>\n",
       "      <td>2019-07-03 16:00:00+00:00</td>\n",
       "      <td>NC0195118_Specimen</td>\n",
       "      <td>T1Data_Knappe_NC0195118_Specimen</td>\n",
       "    </tr>\n",
       "    <tr>\n",
       "      <th>2</th>\n",
       "      <td>61340</td>\n",
       "      <td>21196</td>\n",
       "      <td>2019-07-03 16:00:00+00:00</td>\n",
       "      <td>3653</td>\n",
       "      <td>51308</td>\n",
       "      <td>2.072</td>\n",
       "      <td>2019-07-03 16:00:00+00:00</td>\n",
       "      <td>NC0195118_Specimen</td>\n",
       "      <td>T1Data_Knappe_NC0195118_Specimen</td>\n",
       "    </tr>\n",
       "    <tr>\n",
       "      <th>3</th>\n",
       "      <td>61341</td>\n",
       "      <td>21196</td>\n",
       "      <td>2019-07-03 16:00:00+00:00</td>\n",
       "      <td>3653</td>\n",
       "      <td>51309</td>\n",
       "      <td>2.153</td>\n",
       "      <td>2019-07-03 16:00:00+00:00</td>\n",
       "      <td>NC0195118_Specimen</td>\n",
       "      <td>T1Data_Knappe_NC0195118_Specimen</td>\n",
       "    </tr>\n",
       "    <tr>\n",
       "      <th>4</th>\n",
       "      <td>61342</td>\n",
       "      <td>21416</td>\n",
       "      <td>2019-08-12 16:00:00+00:00</td>\n",
       "      <td>3655</td>\n",
       "      <td>51310</td>\n",
       "      <td>7.100</td>\n",
       "      <td>2019-08-12 16:00:00+00:00</td>\n",
       "      <td>NC0188115_Specimen</td>\n",
       "      <td>T1Data_Ferguson_NC0188115_Specimen</td>\n",
       "    </tr>\n",
       "    <tr>\n",
       "      <th>...</th>\n",
       "      <td>...</td>\n",
       "      <td>...</td>\n",
       "      <td>...</td>\n",
       "      <td>...</td>\n",
       "      <td>...</td>\n",
       "      <td>...</td>\n",
       "      <td>...</td>\n",
       "      <td>...</td>\n",
       "      <td>...</td>\n",
       "    </tr>\n",
       "    <tr>\n",
       "      <th>810</th>\n",
       "      <td>62148</td>\n",
       "      <td>21533</td>\n",
       "      <td>2019-08-22 16:00:00+00:00</td>\n",
       "      <td>4011</td>\n",
       "      <td>52116</td>\n",
       "      <td>6.224</td>\n",
       "      <td>2019-08-22 16:00:00+00:00</td>\n",
       "      <td>NC5009012_Specimen</td>\n",
       "      <td>T1Data_Knappe_NC5009012_Specimen</td>\n",
       "    </tr>\n",
       "    <tr>\n",
       "      <th>811</th>\n",
       "      <td>62149</td>\n",
       "      <td>21533</td>\n",
       "      <td>2019-08-22 16:00:00+00:00</td>\n",
       "      <td>4011</td>\n",
       "      <td>52117</td>\n",
       "      <td>7.737</td>\n",
       "      <td>2019-08-22 16:00:00+00:00</td>\n",
       "      <td>NC5009012_Specimen</td>\n",
       "      <td>T1Data_Knappe_NC5009012_Specimen</td>\n",
       "    </tr>\n",
       "    <tr>\n",
       "      <th>812</th>\n",
       "      <td>62150</td>\n",
       "      <td>21533</td>\n",
       "      <td>2019-08-22 16:00:00+00:00</td>\n",
       "      <td>4011</td>\n",
       "      <td>52118</td>\n",
       "      <td>33.159</td>\n",
       "      <td>2019-08-22 16:00:00+00:00</td>\n",
       "      <td>NC5009012_Specimen</td>\n",
       "      <td>T1Data_Knappe_NC5009012_Specimen</td>\n",
       "    </tr>\n",
       "    <tr>\n",
       "      <th>813</th>\n",
       "      <td>62151</td>\n",
       "      <td>21477</td>\n",
       "      <td>2019-08-24 16:00:00+00:00</td>\n",
       "      <td>4013</td>\n",
       "      <td>52119</td>\n",
       "      <td>2.816</td>\n",
       "      <td>2019-08-24 16:00:00+00:00</td>\n",
       "      <td>NC0363010_Specimen</td>\n",
       "      <td>T1Data_Knappe_NC0363010_Specimen</td>\n",
       "    </tr>\n",
       "    <tr>\n",
       "      <th>814</th>\n",
       "      <td>62152</td>\n",
       "      <td>21477</td>\n",
       "      <td>2019-08-24 16:00:00+00:00</td>\n",
       "      <td>4013</td>\n",
       "      <td>52120</td>\n",
       "      <td>3.914</td>\n",
       "      <td>2019-08-24 16:00:00+00:00</td>\n",
       "      <td>NC0363010_Specimen</td>\n",
       "      <td>T1Data_Knappe_NC0363010_Specimen</td>\n",
       "    </tr>\n",
       "  </tbody>\n",
       "</table>\n",
       "<p>815 rows × 9 columns</p>\n",
       "</div>"
      ],
      "text/plain": [
       "    resultid samplingfeatureid            resultdatetime featureactionid  \\\n",
       "0      61338             21196 2019-07-03 16:00:00+00:00            3653   \n",
       "1      61339             21196 2019-07-03 16:00:00+00:00            3653   \n",
       "2      61340             21196 2019-07-03 16:00:00+00:00            3653   \n",
       "3      61341             21196 2019-07-03 16:00:00+00:00            3653   \n",
       "4      61342             21416 2019-08-12 16:00:00+00:00            3655   \n",
       "..       ...               ...                       ...             ...   \n",
       "810    62148             21533 2019-08-22 16:00:00+00:00            4011   \n",
       "811    62149             21533 2019-08-22 16:00:00+00:00            4011   \n",
       "812    62150             21533 2019-08-22 16:00:00+00:00            4011   \n",
       "813    62151             21477 2019-08-24 16:00:00+00:00            4013   \n",
       "814    62152             21477 2019-08-24 16:00:00+00:00            4013   \n",
       "\n",
       "    valueid  datavalue             valuedatetime samplingfeaturecode  \\\n",
       "0     51306      1.556 2019-07-03 16:00:00+00:00  NC0195118_Specimen   \n",
       "1     51307      6.010 2019-07-03 16:00:00+00:00  NC0195118_Specimen   \n",
       "2     51308      2.072 2019-07-03 16:00:00+00:00  NC0195118_Specimen   \n",
       "3     51309      2.153 2019-07-03 16:00:00+00:00  NC0195118_Specimen   \n",
       "4     51310      7.100 2019-08-12 16:00:00+00:00  NC0188115_Specimen   \n",
       "..      ...        ...                       ...                 ...   \n",
       "810   52116      6.224 2019-08-22 16:00:00+00:00  NC5009012_Specimen   \n",
       "811   52117      7.737 2019-08-22 16:00:00+00:00  NC5009012_Specimen   \n",
       "812   52118     33.159 2019-08-22 16:00:00+00:00  NC5009012_Specimen   \n",
       "813   52119      2.816 2019-08-24 16:00:00+00:00  NC0363010_Specimen   \n",
       "814   52120      3.914 2019-08-24 16:00:00+00:00  NC0363010_Specimen   \n",
       "\n",
       "                            datasetcode  \n",
       "0      T1Data_Knappe_NC0195118_Specimen  \n",
       "1      T1Data_Knappe_NC0195118_Specimen  \n",
       "2      T1Data_Knappe_NC0195118_Specimen  \n",
       "3      T1Data_Knappe_NC0195118_Specimen  \n",
       "4    T1Data_Ferguson_NC0188115_Specimen  \n",
       "..                                  ...  \n",
       "810    T1Data_Knappe_NC5009012_Specimen  \n",
       "811    T1Data_Knappe_NC5009012_Specimen  \n",
       "812    T1Data_Knappe_NC5009012_Specimen  \n",
       "813    T1Data_Knappe_NC0363010_Specimen  \n",
       "814    T1Data_Knappe_NC0363010_Specimen  \n",
       "\n",
       "[815 rows x 9 columns]"
      ]
     },
     "execution_count": 4,
     "metadata": {},
     "output_type": "execute_result"
    }
   ],
   "source": [
    "dfdb = getResults()\n",
    "dfdb.head()"
   ]
  },
  {
   "cell_type": "code",
   "execution_count": 4,
   "metadata": {},
   "outputs": [
    {
     "data": {
      "text/plain": [
       "815"
      ]
     },
     "execution_count": 4,
     "metadata": {},
     "output_type": "execute_result"
    }
   ],
   "source": [
    "len(dfdb['resultid'])"
   ]
  },
  {
   "cell_type": "code",
   "execution_count": 5,
   "metadata": {},
   "outputs": [],
   "source": [
    "def getResAllBridgesView():\n",
    "    try:\n",
    "        conn = psycopg2.connect(\"dbname='ncpfast_dev' user='django_dev' host='ncpfast-db.edc.renci.org' port='5432'\")\n",
    "        cur = conn.cursor()\n",
    "        \n",
    "        cur.execute(\"\"\"SET CLIENT_ENCODING TO UTF8\"\"\")\n",
    "        cur.execute(\"\"\"SET STANDARD_CONFORMING_STRINGS TO ON\"\"\")\n",
    "        cur.execute(\"\"\"BEGIN\"\"\")\n",
    "        cur.execute(\"\"\"SELECT res.resultid, fa.samplingfeatureid, rf.to_samplingfeature_id, dsr.datasetid, \n",
    "                              ab.actionid, ab.affiliationid, dsc.citationid, dsc.relationshiptypecv\n",
    "                       FROM results res\n",
    "                           LEFT JOIN feature_actions fa ON res.featureactionid = fa.featureactionid\n",
    "                           LEFT JOIN action_by ab ON fa.actionid = ab.actionid\n",
    "                           LEFT JOIN dataset_results dsr ON dsr.resultid = res.resultid\n",
    "                           LEFT JOIN dataset_citations dsc ON dsc.datasetid = dsr.datasetid\n",
    "                           LEFT JOIN related_features rf ON rf.from_samplingfeature_id = fa.samplingfeatureid\n",
    "                           AND rf.relationshiptypecv::text = 'Was collected at'::text\n",
    "                           WHERE fa.samplingfeatureid = 19665\n",
    "                       ORDER BY fa.samplingfeatureid\"\"\")\n",
    "        #WHERE fa.samplingfeatureid = 21196\n",
    "        rows = cur.fetchall()\n",
    "        df = pd.DataFrame(columns = ['resultid','samplingfeatureid','to_samplingfeature_id','datasetid', \n",
    "                                     'actionid','affiliationid','citationid','relationshiptypecv']) \n",
    "        \n",
    "        for row in rows:\n",
    "            df = df.append({'resultid':row[0],'samplingfeatureid':row[1],'to_samplingfeature_id':row[2],\n",
    "                            'datasetid':row[3],'actionid':row[4],'affiliationid':row[5],'citationid':row[6],\n",
    "                            'relationshiptypecv':row[7]}, \n",
    "                            ignore_index = True)\n",
    "\n",
    "        return df\n",
    "    \n",
    "    except (Exception, psycopg2.DatabaseError) as error:\n",
    "        print(error)\n",
    "    finally:\n",
    "        if cur is not None:\n",
    "            cur.close()\n",
    "        if conn is not None:\n",
    "            conn.close()        "
   ]
  },
  {
   "cell_type": "code",
   "execution_count": 6,
   "metadata": {},
   "outputs": [
    {
     "data": {
      "text/html": [
       "<div>\n",
       "<style scoped>\n",
       "    .dataframe tbody tr th:only-of-type {\n",
       "        vertical-align: middle;\n",
       "    }\n",
       "\n",
       "    .dataframe tbody tr th {\n",
       "        vertical-align: top;\n",
       "    }\n",
       "\n",
       "    .dataframe thead th {\n",
       "        text-align: right;\n",
       "    }\n",
       "</style>\n",
       "<table border=\"1\" class=\"dataframe\">\n",
       "  <thead>\n",
       "    <tr style=\"text-align: right;\">\n",
       "      <th></th>\n",
       "      <th>resultid</th>\n",
       "      <th>samplingfeatureid</th>\n",
       "      <th>to_samplingfeature_id</th>\n",
       "      <th>datasetid</th>\n",
       "      <th>actionid</th>\n",
       "      <th>affiliationid</th>\n",
       "      <th>citationid</th>\n",
       "      <th>relationshiptypecv</th>\n",
       "    </tr>\n",
       "  </thead>\n",
       "  <tbody>\n",
       "    <tr>\n",
       "      <th>0</th>\n",
       "      <td>44465.0</td>\n",
       "      <td>19665.0</td>\n",
       "      <td>19285.0</td>\n",
       "      <td>2301.0</td>\n",
       "      <td>2764.0</td>\n",
       "      <td>10005.0</td>\n",
       "      <td>NaN</td>\n",
       "      <td>NaN</td>\n",
       "    </tr>\n",
       "    <tr>\n",
       "      <th>1</th>\n",
       "      <td>44464.0</td>\n",
       "      <td>19665.0</td>\n",
       "      <td>19285.0</td>\n",
       "      <td>2301.0</td>\n",
       "      <td>2764.0</td>\n",
       "      <td>10005.0</td>\n",
       "      <td>NaN</td>\n",
       "      <td>NaN</td>\n",
       "    </tr>\n",
       "    <tr>\n",
       "      <th>2</th>\n",
       "      <td>44463.0</td>\n",
       "      <td>19665.0</td>\n",
       "      <td>19285.0</td>\n",
       "      <td>2301.0</td>\n",
       "      <td>2764.0</td>\n",
       "      <td>10005.0</td>\n",
       "      <td>NaN</td>\n",
       "      <td>NaN</td>\n",
       "    </tr>\n",
       "    <tr>\n",
       "      <th>3</th>\n",
       "      <td>44462.0</td>\n",
       "      <td>19665.0</td>\n",
       "      <td>19285.0</td>\n",
       "      <td>2301.0</td>\n",
       "      <td>2764.0</td>\n",
       "      <td>10005.0</td>\n",
       "      <td>NaN</td>\n",
       "      <td>NaN</td>\n",
       "    </tr>\n",
       "  </tbody>\n",
       "</table>\n",
       "</div>"
      ],
      "text/plain": [
       "   resultid  samplingfeatureid  to_samplingfeature_id  datasetid  actionid  \\\n",
       "0   44465.0            19665.0                19285.0     2301.0    2764.0   \n",
       "1   44464.0            19665.0                19285.0     2301.0    2764.0   \n",
       "2   44463.0            19665.0                19285.0     2301.0    2764.0   \n",
       "3   44462.0            19665.0                19285.0     2301.0    2764.0   \n",
       "\n",
       "   affiliationid  citationid  relationshiptypecv  \n",
       "0        10005.0         NaN                 NaN  \n",
       "1        10005.0         NaN                 NaN  \n",
       "2        10005.0         NaN                 NaN  \n",
       "3        10005.0         NaN                 NaN  "
      ]
     },
     "execution_count": 6,
     "metadata": {},
     "output_type": "execute_result"
    }
   ],
   "source": [
    "df = getResAllBridgesView()\n",
    "df.head()"
   ]
  },
  {
   "cell_type": "code",
   "execution_count": 24,
   "metadata": {},
   "outputs": [],
   "source": [
    "#outfile = '../resultsT2Data.csv'\n",
    "#dfdb.to_csv(outfile, header=True, index=False)"
   ]
  },
  {
   "cell_type": "code",
   "execution_count": 12,
   "metadata": {},
   "outputs": [
    {
     "data": {
      "text/plain": [
       "181"
      ]
     },
     "execution_count": 12,
     "metadata": {},
     "output_type": "execute_result"
    }
   ],
   "source": [
    "len(np.unique(np.array(dfdb['datasetcode'])))"
   ]
  },
  {
   "cell_type": "code",
   "execution_count": 13,
   "metadata": {},
   "outputs": [
    {
     "data": {
      "text/plain": [
       "815"
      ]
     },
     "execution_count": 13,
     "metadata": {},
     "output_type": "execute_result"
    }
   ],
   "source": [
    "len(dfdb['datasetcode'])"
   ]
  },
  {
   "cell_type": "code",
   "execution_count": 10,
   "metadata": {},
   "outputs": [
    {
     "data": {
      "text/plain": [
       "815"
      ]
     },
     "execution_count": 10,
     "metadata": {},
     "output_type": "execute_result"
    }
   ],
   "source": [
    "len(np.unique(np.array(dfdb['resultid'])))"
   ]
  },
  {
   "cell_type": "code",
   "execution_count": 11,
   "metadata": {},
   "outputs": [
    {
     "data": {
      "text/plain": [
       "815"
      ]
     },
     "execution_count": 11,
     "metadata": {},
     "output_type": "execute_result"
    }
   ],
   "source": [
    "len(dfdb['resultid'])"
   ]
  },
  {
   "cell_type": "code",
   "execution_count": 16,
   "metadata": {},
   "outputs": [],
   "source": [
    "def getActions():\n",
    "    try:\n",
    "        conn = psycopg2.connect(\"dbname='ncpfast_dev' user='django_dev' host='ncpfast-db.edc.renci.org' port='5432'\")\n",
    "        cur = conn.cursor()\n",
    "        \n",
    "        cur.execute(\"\"\"SET CLIENT_ENCODING TO UTF8\"\"\")\n",
    "        cur.execute(\"\"\"SET STANDARD_CONFORMING_STRINGS TO ON\"\"\")\n",
    "        cur.execute(\"\"\"BEGIN\"\"\")\n",
    "        cur.execute(\"\"\"SELECT DISTINCT r.resultid, r.resultdatetime, rv.valueid, rv.datavalue, rv.valuedatetime,\n",
    "                                       a.actionid, a.begin_datetime, a.end_datetime, a.methodid\n",
    "                       FROM results r \n",
    "                       INNER JOIN measurement_result_values rv ON r.resultid=rv.resultid\n",
    "                       INNER JOIN feature_actions fa ON r.featureactionid=fa.featureactionid\n",
    "                       INNER JOIN actions a ON fa.actionid=a.actionid\n",
    "                       INNER JOIN sampling_features sf ON fa.samplingfeatureid=sf.samplingfeatureid\n",
    "                       WHERE sf.samplingfeaturecode LIKE 'NC%'\"\"\")\n",
    "        rows = cur.fetchall()\n",
    "        #WHERE sf.samplingfeaturecode LIKE 'GB%' OR sf.samplingfeaturecode LIKE 'MC%'\n",
    "        \n",
    "        df = pd.DataFrame(columns = ['resultid', 'resultdatetime', 'valueid', 'datavalue', 'valuedatetime',\n",
    "                                     'actionid', 'begin_datetime', 'end_datetime', 'methodid']) \n",
    "        \n",
    "        for row in rows:\n",
    "            df = df.append({'resultid': row[0], 'resultdatetime': row[1], 'valueid': row[2], \n",
    "                            'datavalue': row[3], 'valuedatetime': row[4], 'actionid': row[5], \n",
    "                            'begin_datetime': row[6], 'end_datetime': row[7], 'methodid': row[8]}, \n",
    "                            ignore_index = True)\n",
    "\n",
    "        return df\n",
    "    \n",
    "    except (Exception, psycopg2.DatabaseError) as error:\n",
    "        print(error)\n",
    "    finally:\n",
    "        if cur is not None:\n",
    "            cur.close()\n",
    "        if conn is not None:\n",
    "            conn.close()"
   ]
  },
  {
   "cell_type": "code",
   "execution_count": 17,
   "metadata": {},
   "outputs": [
    {
     "data": {
      "text/html": [
       "<div>\n",
       "<style scoped>\n",
       "    .dataframe tbody tr th:only-of-type {\n",
       "        vertical-align: middle;\n",
       "    }\n",
       "\n",
       "    .dataframe tbody tr th {\n",
       "        vertical-align: top;\n",
       "    }\n",
       "\n",
       "    .dataframe thead th {\n",
       "        text-align: right;\n",
       "    }\n",
       "</style>\n",
       "<table border=\"1\" class=\"dataframe\">\n",
       "  <thead>\n",
       "    <tr style=\"text-align: right;\">\n",
       "      <th></th>\n",
       "      <th>resultid</th>\n",
       "      <th>resultdatetime</th>\n",
       "      <th>valueid</th>\n",
       "      <th>datavalue</th>\n",
       "      <th>valuedatetime</th>\n",
       "      <th>actionid</th>\n",
       "      <th>begin_datetime</th>\n",
       "      <th>end_datetime</th>\n",
       "      <th>methodid</th>\n",
       "    </tr>\n",
       "  </thead>\n",
       "  <tbody>\n",
       "    <tr>\n",
       "      <th>0</th>\n",
       "      <td>58893</td>\n",
       "      <td>2019-07-03 16:00:00+00:00</td>\n",
       "      <td>48861</td>\n",
       "      <td>1.556</td>\n",
       "      <td>2019-07-03 16:00:00+00:00</td>\n",
       "      <td>2884</td>\n",
       "      <td>2019-07-03 00:00:00+00:00</td>\n",
       "      <td>2019-07-03 23:59:59+00:00</td>\n",
       "      <td>10003</td>\n",
       "    </tr>\n",
       "    <tr>\n",
       "      <th>1</th>\n",
       "      <td>58894</td>\n",
       "      <td>2019-07-03 16:00:00+00:00</td>\n",
       "      <td>48862</td>\n",
       "      <td>6.010</td>\n",
       "      <td>2019-07-03 16:00:00+00:00</td>\n",
       "      <td>2884</td>\n",
       "      <td>2019-07-03 00:00:00+00:00</td>\n",
       "      <td>2019-07-03 23:59:59+00:00</td>\n",
       "      <td>10003</td>\n",
       "    </tr>\n",
       "    <tr>\n",
       "      <th>2</th>\n",
       "      <td>58895</td>\n",
       "      <td>2019-07-03 16:00:00+00:00</td>\n",
       "      <td>48863</td>\n",
       "      <td>2.072</td>\n",
       "      <td>2019-07-03 16:00:00+00:00</td>\n",
       "      <td>2884</td>\n",
       "      <td>2019-07-03 00:00:00+00:00</td>\n",
       "      <td>2019-07-03 23:59:59+00:00</td>\n",
       "      <td>10003</td>\n",
       "    </tr>\n",
       "    <tr>\n",
       "      <th>3</th>\n",
       "      <td>58896</td>\n",
       "      <td>2019-07-03 16:00:00+00:00</td>\n",
       "      <td>48864</td>\n",
       "      <td>2.153</td>\n",
       "      <td>2019-07-03 16:00:00+00:00</td>\n",
       "      <td>2884</td>\n",
       "      <td>2019-07-03 00:00:00+00:00</td>\n",
       "      <td>2019-07-03 23:59:59+00:00</td>\n",
       "      <td>10003</td>\n",
       "    </tr>\n",
       "    <tr>\n",
       "      <th>4</th>\n",
       "      <td>58897</td>\n",
       "      <td>2019-08-12 16:00:00+00:00</td>\n",
       "      <td>48865</td>\n",
       "      <td>7.100</td>\n",
       "      <td>2019-08-12 16:00:00+00:00</td>\n",
       "      <td>2885</td>\n",
       "      <td>2019-08-12 00:00:00+00:00</td>\n",
       "      <td>2019-08-12 23:59:59+00:00</td>\n",
       "      <td>10005</td>\n",
       "    </tr>\n",
       "  </tbody>\n",
       "</table>\n",
       "</div>"
      ],
      "text/plain": [
       "  resultid            resultdatetime valueid  datavalue  \\\n",
       "0    58893 2019-07-03 16:00:00+00:00   48861      1.556   \n",
       "1    58894 2019-07-03 16:00:00+00:00   48862      6.010   \n",
       "2    58895 2019-07-03 16:00:00+00:00   48863      2.072   \n",
       "3    58896 2019-07-03 16:00:00+00:00   48864      2.153   \n",
       "4    58897 2019-08-12 16:00:00+00:00   48865      7.100   \n",
       "\n",
       "              valuedatetime actionid            begin_datetime  \\\n",
       "0 2019-07-03 16:00:00+00:00     2884 2019-07-03 00:00:00+00:00   \n",
       "1 2019-07-03 16:00:00+00:00     2884 2019-07-03 00:00:00+00:00   \n",
       "2 2019-07-03 16:00:00+00:00     2884 2019-07-03 00:00:00+00:00   \n",
       "3 2019-07-03 16:00:00+00:00     2884 2019-07-03 00:00:00+00:00   \n",
       "4 2019-08-12 16:00:00+00:00     2885 2019-08-12 00:00:00+00:00   \n",
       "\n",
       "               end_datetime methodid  \n",
       "0 2019-07-03 23:59:59+00:00    10003  \n",
       "1 2019-07-03 23:59:59+00:00    10003  \n",
       "2 2019-07-03 23:59:59+00:00    10003  \n",
       "3 2019-07-03 23:59:59+00:00    10003  \n",
       "4 2019-08-12 23:59:59+00:00    10005  "
      ]
     },
     "execution_count": 17,
     "metadata": {},
     "output_type": "execute_result"
    }
   ],
   "source": [
    "dfdb = getActions()\n",
    "dfdb.head()"
   ]
  },
  {
   "cell_type": "code",
   "execution_count": 10,
   "metadata": {},
   "outputs": [
    {
     "data": {
      "text/plain": [
       "380"
      ]
     },
     "execution_count": 10,
     "metadata": {},
     "output_type": "execute_result"
    }
   ],
   "source": [
    "len(np.unique(np.array(dfdb['actionid'])))"
   ]
  },
  {
   "cell_type": "code",
   "execution_count": 11,
   "metadata": {},
   "outputs": [
    {
     "data": {
      "text/plain": [
       "18171"
      ]
     },
     "execution_count": 11,
     "metadata": {},
     "output_type": "execute_result"
    }
   ],
   "source": [
    "len(dfdb['actionid'])"
   ]
  },
  {
   "cell_type": "code",
   "execution_count": 12,
   "metadata": {},
   "outputs": [
    {
     "data": {
      "text/plain": [
       "44"
      ]
     },
     "execution_count": 12,
     "metadata": {},
     "output_type": "execute_result"
    }
   ],
   "source": [
    "len(np.unique(np.array(dfdb['end_datetime'])))"
   ]
  },
  {
   "cell_type": "code",
   "execution_count": 13,
   "metadata": {},
   "outputs": [],
   "source": [
    "def getFeatures():\n",
    "    try:\n",
    "        conn = psycopg2.connect(\"dbname='ncpfast_dev' user='django_dev' host='ncpfast-db.edc.renci.org' port='5432'\")\n",
    "        cur = conn.cursor()\n",
    "        \n",
    "        cur.execute(\"\"\"SET CLIENT_ENCODING TO UTF8\"\"\")\n",
    "        cur.execute(\"\"\"SET STANDARD_CONFORMING_STRINGS TO ON\"\"\")\n",
    "        cur.execute(\"\"\"BEGIN\"\"\")\n",
    "        cur.execute(\"\"\"SELECT DISTINCT r.resultid, r.resultdatetime, rv.valueid, rv.datavalue, rv.valuedatetime,\n",
    "                                       a.actionid, a.begin_datetime, a.end_datetime, a.methodid,\n",
    "                                        sf.samplingfeatureid, ST_X(ST_AsText(sf.featuregeometry))\n",
    "                       FROM results r \n",
    "                       INNER JOIN measurement_result_values rv ON r.resultid=rv.resultid\n",
    "                       INNER JOIN feature_actions fa ON r.featureactionid=fa.featureactionid\n",
    "                       INNER JOIN actions a ON fa.actionid=a.actionid\n",
    "                       INNER JOIN sampling_features sf ON fa.samplingfeatureid=sf.samplingfeatureid\n",
    "                       WHERE sf.samplingfeaturecode LIKE 'NC%'\"\"\")\n",
    "        rows = cur.fetchall()\n",
    "        #WHERE sf.samplingfeaturecode LIKE 'GB%' OR sf.samplingfeaturecode LIKE 'MC%'\n",
    "        \n",
    "        df = pd.DataFrame(columns = ['resultid', 'resultdatetime', 'valueid', 'datavalue', 'valuedatetime',\n",
    "                                     'actionid', 'begin_datetime', 'end_datetime', 'methodid',\n",
    "                                      'samplingfeatureid', 'lon']) \n",
    "        \n",
    "        for row in rows:\n",
    "            df = df.append({'resultid': row[0], 'resultdatetime': row[1], 'valueid': row[2], \n",
    "                            'datavalue': row[3], 'valuedatetime': row[4], 'actionid': row[5], \n",
    "                            'begin_datetime': row[6], 'end_datetime': row[7], 'methodid': row[8],\n",
    "                            'samplingfeatureid': row[9], 'lon': row[10]},\n",
    "                            ignore_index = True)\n",
    "\n",
    "        return df\n",
    "    \n",
    "    except (Exception, psycopg2.DatabaseError) as error:\n",
    "        print(error)\n",
    "    finally:\n",
    "        if cur is not None:\n",
    "            cur.close()\n",
    "        if conn is not None:\n",
    "            conn.close()"
   ]
  },
  {
   "cell_type": "code",
   "execution_count": 14,
   "metadata": {},
   "outputs": [
    {
     "data": {
      "text/html": [
       "<div>\n",
       "<style scoped>\n",
       "    .dataframe tbody tr th:only-of-type {\n",
       "        vertical-align: middle;\n",
       "    }\n",
       "\n",
       "    .dataframe tbody tr th {\n",
       "        vertical-align: top;\n",
       "    }\n",
       "\n",
       "    .dataframe thead th {\n",
       "        text-align: right;\n",
       "    }\n",
       "</style>\n",
       "<table border=\"1\" class=\"dataframe\">\n",
       "  <thead>\n",
       "    <tr style=\"text-align: right;\">\n",
       "      <th></th>\n",
       "      <th>resultid</th>\n",
       "      <th>resultdatetime</th>\n",
       "      <th>valueid</th>\n",
       "      <th>datavalue</th>\n",
       "      <th>valuedatetime</th>\n",
       "      <th>actionid</th>\n",
       "      <th>begin_datetime</th>\n",
       "      <th>end_datetime</th>\n",
       "      <th>methodid</th>\n",
       "      <th>samplingfeatureid</th>\n",
       "      <th>lon</th>\n",
       "    </tr>\n",
       "  </thead>\n",
       "  <tbody>\n",
       "    <tr>\n",
       "      <th>0</th>\n",
       "      <td>10919</td>\n",
       "      <td>2019-07-02 12:00:00-04:00</td>\n",
       "      <td>891</td>\n",
       "      <td>1.0</td>\n",
       "      <td>2019-07-02 12:00:00-04:00</td>\n",
       "      <td>196</td>\n",
       "      <td>2019-07-02 00:00:00-04:00</td>\n",
       "      <td>2019-07-02 23:59:59-04:00</td>\n",
       "      <td>10003</td>\n",
       "      <td>18882</td>\n",
       "      <td>-81.134111</td>\n",
       "    </tr>\n",
       "    <tr>\n",
       "      <th>1</th>\n",
       "      <td>10920</td>\n",
       "      <td>2019-07-02 12:00:00-04:00</td>\n",
       "      <td>892</td>\n",
       "      <td>5.0</td>\n",
       "      <td>2019-07-02 12:00:00-04:00</td>\n",
       "      <td>196</td>\n",
       "      <td>2019-07-02 00:00:00-04:00</td>\n",
       "      <td>2019-07-02 23:59:59-04:00</td>\n",
       "      <td>10003</td>\n",
       "      <td>18882</td>\n",
       "      <td>-81.134111</td>\n",
       "    </tr>\n",
       "    <tr>\n",
       "      <th>2</th>\n",
       "      <td>10921</td>\n",
       "      <td>2019-07-02 12:00:00-04:00</td>\n",
       "      <td>893</td>\n",
       "      <td>10.0</td>\n",
       "      <td>2019-07-02 12:00:00-04:00</td>\n",
       "      <td>196</td>\n",
       "      <td>2019-07-02 00:00:00-04:00</td>\n",
       "      <td>2019-07-02 23:59:59-04:00</td>\n",
       "      <td>10003</td>\n",
       "      <td>18882</td>\n",
       "      <td>-81.134111</td>\n",
       "    </tr>\n",
       "    <tr>\n",
       "      <th>3</th>\n",
       "      <td>10922</td>\n",
       "      <td>2019-07-02 12:00:00-04:00</td>\n",
       "      <td>894</td>\n",
       "      <td>2.0</td>\n",
       "      <td>2019-07-02 12:00:00-04:00</td>\n",
       "      <td>196</td>\n",
       "      <td>2019-07-02 00:00:00-04:00</td>\n",
       "      <td>2019-07-02 23:59:59-04:00</td>\n",
       "      <td>10003</td>\n",
       "      <td>18882</td>\n",
       "      <td>-81.134111</td>\n",
       "    </tr>\n",
       "    <tr>\n",
       "      <th>4</th>\n",
       "      <td>10923</td>\n",
       "      <td>2019-07-02 12:00:00-04:00</td>\n",
       "      <td>895</td>\n",
       "      <td>2.0</td>\n",
       "      <td>2019-07-02 12:00:00-04:00</td>\n",
       "      <td>196</td>\n",
       "      <td>2019-07-02 00:00:00-04:00</td>\n",
       "      <td>2019-07-02 23:59:59-04:00</td>\n",
       "      <td>10003</td>\n",
       "      <td>18882</td>\n",
       "      <td>-81.134111</td>\n",
       "    </tr>\n",
       "  </tbody>\n",
       "</table>\n",
       "</div>"
      ],
      "text/plain": [
       "  resultid             resultdatetime valueid  datavalue  \\\n",
       "0    10919  2019-07-02 12:00:00-04:00     891        1.0   \n",
       "1    10920  2019-07-02 12:00:00-04:00     892        5.0   \n",
       "2    10921  2019-07-02 12:00:00-04:00     893       10.0   \n",
       "3    10922  2019-07-02 12:00:00-04:00     894        2.0   \n",
       "4    10923  2019-07-02 12:00:00-04:00     895        2.0   \n",
       "\n",
       "               valuedatetime actionid             begin_datetime  \\\n",
       "0  2019-07-02 12:00:00-04:00      196  2019-07-02 00:00:00-04:00   \n",
       "1  2019-07-02 12:00:00-04:00      196  2019-07-02 00:00:00-04:00   \n",
       "2  2019-07-02 12:00:00-04:00      196  2019-07-02 00:00:00-04:00   \n",
       "3  2019-07-02 12:00:00-04:00      196  2019-07-02 00:00:00-04:00   \n",
       "4  2019-07-02 12:00:00-04:00      196  2019-07-02 00:00:00-04:00   \n",
       "\n",
       "                end_datetime methodid samplingfeatureid        lon  \n",
       "0  2019-07-02 23:59:59-04:00    10003             18882 -81.134111  \n",
       "1  2019-07-02 23:59:59-04:00    10003             18882 -81.134111  \n",
       "2  2019-07-02 23:59:59-04:00    10003             18882 -81.134111  \n",
       "3  2019-07-02 23:59:59-04:00    10003             18882 -81.134111  \n",
       "4  2019-07-02 23:59:59-04:00    10003             18882 -81.134111  "
      ]
     },
     "execution_count": 14,
     "metadata": {},
     "output_type": "execute_result"
    }
   ],
   "source": [
    "dfdb = getFeatures()\n",
    "dfdb.head()"
   ]
  },
  {
   "cell_type": "code",
   "execution_count": 15,
   "metadata": {},
   "outputs": [
    {
     "data": {
      "text/plain": [
       "array([-79.47892666, -78.02686657, -76.35896649, ..., -77.30003197,\n",
       "       -82.22916199, -78.74967816])"
      ]
     },
     "execution_count": 15,
     "metadata": {},
     "output_type": "execute_result"
    }
   ],
   "source": [
    "np.array(dfdb['lon'])"
   ]
  },
  {
   "cell_type": "code",
   "execution_count": 16,
   "metadata": {},
   "outputs": [
    {
     "data": {
      "text/plain": [
       "380"
      ]
     },
     "execution_count": 16,
     "metadata": {},
     "output_type": "execute_result"
    }
   ],
   "source": [
    "len(np.unique(np.array(dfdb['samplingfeatureid'])))"
   ]
  },
  {
   "cell_type": "code",
   "execution_count": null,
   "metadata": {},
   "outputs": [],
   "source": []
  }
 ],
 "metadata": {
  "kernelspec": {
   "display_name": "Python 3",
   "language": "python",
   "name": "python3"
  },
  "language_info": {
   "codemirror_mode": {
    "name": "ipython",
    "version": 3
   },
   "file_extension": ".py",
   "mimetype": "text/x-python",
   "name": "python",
   "nbconvert_exporter": "python",
   "pygments_lexer": "ipython3",
   "version": "3.7.8"
  }
 },
 "nbformat": 4,
 "nbformat_minor": 4
}
