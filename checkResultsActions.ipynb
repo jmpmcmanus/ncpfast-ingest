{
 "cells": [
  {
   "cell_type": "code",
   "execution_count": 1,
   "metadata": {},
   "outputs": [],
   "source": [
    "import psycopg2\n",
    "from psycopg2.extensions import AsIs\n",
    "import pandas as pd\n",
    "import numpy as np"
   ]
  },
  {
   "cell_type": "code",
   "execution_count": 2,
   "metadata": {},
   "outputs": [],
   "source": [
    "def getResults():\n",
    "    try:\n",
    "        conn = psycopg2.connect(\"dbname='ncpfast_dev' user='django_dev' host='ncpfast-db.edc.renci.org' port='5432'\")\n",
    "        cur = conn.cursor()\n",
    "        \n",
    "        cur.execute(\"\"\"SET CLIENT_ENCODING TO UTF8\"\"\")\n",
    "        cur.execute(\"\"\"SET STANDARD_CONFORMING_STRINGS TO ON\"\"\")\n",
    "        cur.execute(\"\"\"BEGIN\"\"\")\n",
    "        cur.execute(\"\"\"SELECT DISTINCT r.resultid, r.resultdatetime, r.featureactionid, rv.valueid, \n",
    "                                       rv.datavalue, rv.valuedatetime, sf.samplingfeaturecode,\n",
    "                                       ds.datasetcode\n",
    "                       FROM results r \n",
    "                       INNER JOIN measurement_result_values rv ON r.resultid=rv.resultid\n",
    "                       INNER JOIN feature_actions fa ON r.featureactionid=fa.featureactionid \n",
    "                       INNER JOIN dataset_results dr ON r.resultid=dr.resultid\n",
    "                       INNER JOIN datasets ds ON dr.datasetid=ds.datasetid\n",
    "                       INNER JOIN sampling_features sf ON fa.samplingfeatureid=sf.samplingfeatureid\n",
    "                       WHERE ds.datasetcode LIKE 'T1Data_%'\"\"\")\n",
    "        rows = cur.fetchall()\n",
    "        #WHERE sf.samplingfeaturecode LIKE 'NC%' ORDER BY featureactionid\n",
    "        #WHERE sf.samplingfeaturecode LIKE 'GB%' OR sf.samplingfeaturecode LIKE 'MC%'\n",
    "        #WHERE sf.samplingfeaturecode LIKE 'GB%' OR sf.samplingfeaturecode LIKE 'MC%'\n",
    "        df = pd.DataFrame(columns = ['resultid', 'resultdatetime', 'featureactionid', 'valueid', \n",
    "                                     'datavalue', 'valuedatetime', 'samplingfeaturecode', 'datasetcode']) \n",
    "        \n",
    "        for row in rows:\n",
    "            df = df.append({'resultid': row[0], 'resultdatetime': row[1], 'featureactionid': row[2],\n",
    "                            'valueid': row[3], 'datavalue': row[4], 'valuedatetime': row[5], \n",
    "                            'samplingfeaturecode': row[6], 'datasetcode': row[7]}, \n",
    "                            ignore_index = True)\n",
    "\n",
    "        return df\n",
    "    \n",
    "    except (Exception, psycopg2.DatabaseError) as error:\n",
    "        print(error)\n",
    "    finally:\n",
    "        if cur is not None:\n",
    "            cur.close()\n",
    "        if conn is not None:\n",
    "            conn.close()"
   ]
  },
  {
   "cell_type": "code",
   "execution_count": 3,
   "metadata": {},
   "outputs": [
    {
     "data": {
      "text/html": [
       "<div>\n",
       "<style scoped>\n",
       "    .dataframe tbody tr th:only-of-type {\n",
       "        vertical-align: middle;\n",
       "    }\n",
       "\n",
       "    .dataframe tbody tr th {\n",
       "        vertical-align: top;\n",
       "    }\n",
       "\n",
       "    .dataframe thead th {\n",
       "        text-align: right;\n",
       "    }\n",
       "</style>\n",
       "<table border=\"1\" class=\"dataframe\">\n",
       "  <thead>\n",
       "    <tr style=\"text-align: right;\">\n",
       "      <th></th>\n",
       "      <th>resultid</th>\n",
       "      <th>resultdatetime</th>\n",
       "      <th>featureactionid</th>\n",
       "      <th>valueid</th>\n",
       "      <th>datavalue</th>\n",
       "      <th>valuedatetime</th>\n",
       "      <th>samplingfeaturecode</th>\n",
       "      <th>datasetcode</th>\n",
       "    </tr>\n",
       "  </thead>\n",
       "  <tbody>\n",
       "    <tr>\n",
       "      <th>0</th>\n",
       "      <td>31041</td>\n",
       "      <td>2019-07-10 12:00:00-04:00</td>\n",
       "      <td>1024</td>\n",
       "      <td>21013</td>\n",
       "      <td>8.635</td>\n",
       "      <td>2019-07-10 12:00:00-04:00</td>\n",
       "      <td>NC0136025-1_Specimen</td>\n",
       "      <td>T1Data_Knappe_NC0136025-1_Specimen</td>\n",
       "    </tr>\n",
       "    <tr>\n",
       "      <th>1</th>\n",
       "      <td>34200</td>\n",
       "      <td>2019-06-25 12:00:00-04:00</td>\n",
       "      <td>1454</td>\n",
       "      <td>24172</td>\n",
       "      <td>2.500</td>\n",
       "      <td>2019-06-25 12:00:00-04:00</td>\n",
       "      <td>NC0464010_Specimen</td>\n",
       "      <td>T1Data_Knappe_NC0464010_Specimen</td>\n",
       "    </tr>\n",
       "    <tr>\n",
       "      <th>2</th>\n",
       "      <td>35030</td>\n",
       "      <td>2019-08-20 12:00:00-04:00</td>\n",
       "      <td>1508</td>\n",
       "      <td>25002</td>\n",
       "      <td>1.300</td>\n",
       "      <td>2019-08-20 12:00:00-04:00</td>\n",
       "      <td>NC0496010_Specimen</td>\n",
       "      <td>T1Data_Ferguson_NC0496010_Specimen</td>\n",
       "    </tr>\n",
       "    <tr>\n",
       "      <th>3</th>\n",
       "      <td>34410</td>\n",
       "      <td>2019-05-29 12:00:00-04:00</td>\n",
       "      <td>1467</td>\n",
       "      <td>24382</td>\n",
       "      <td>9.900</td>\n",
       "      <td>2019-05-29 12:00:00-04:00</td>\n",
       "      <td>NC0465010-1_Specimen</td>\n",
       "      <td>T1Data_Ferguson_NC0465010-1_Specimen</td>\n",
       "    </tr>\n",
       "    <tr>\n",
       "      <th>4</th>\n",
       "      <td>35311</td>\n",
       "      <td>2019-08-06 12:00:00-04:00</td>\n",
       "      <td>1549</td>\n",
       "      <td>25283</td>\n",
       "      <td>6.200</td>\n",
       "      <td>2019-08-06 12:00:00-04:00</td>\n",
       "      <td>NC6054001_Specimen</td>\n",
       "      <td>T1Data_Ferguson_NC6054001_Specimen</td>\n",
       "    </tr>\n",
       "  </tbody>\n",
       "</table>\n",
       "</div>"
      ],
      "text/plain": [
       "  resultid             resultdatetime featureactionid valueid  datavalue  \\\n",
       "0    31041  2019-07-10 12:00:00-04:00            1024   21013      8.635   \n",
       "1    34200  2019-06-25 12:00:00-04:00            1454   24172      2.500   \n",
       "2    35030  2019-08-20 12:00:00-04:00            1508   25002      1.300   \n",
       "3    34410  2019-05-29 12:00:00-04:00            1467   24382      9.900   \n",
       "4    35311  2019-08-06 12:00:00-04:00            1549   25283      6.200   \n",
       "\n",
       "               valuedatetime   samplingfeaturecode  \\\n",
       "0  2019-07-10 12:00:00-04:00  NC0136025-1_Specimen   \n",
       "1  2019-06-25 12:00:00-04:00    NC0464010_Specimen   \n",
       "2  2019-08-20 12:00:00-04:00    NC0496010_Specimen   \n",
       "3  2019-05-29 12:00:00-04:00  NC0465010-1_Specimen   \n",
       "4  2019-08-06 12:00:00-04:00    NC6054001_Specimen   \n",
       "\n",
       "                            datasetcode  \n",
       "0    T1Data_Knappe_NC0136025-1_Specimen  \n",
       "1      T1Data_Knappe_NC0464010_Specimen  \n",
       "2    T1Data_Ferguson_NC0496010_Specimen  \n",
       "3  T1Data_Ferguson_NC0465010-1_Specimen  \n",
       "4    T1Data_Ferguson_NC6054001_Specimen  "
      ]
     },
     "execution_count": 3,
     "metadata": {},
     "output_type": "execute_result"
    }
   ],
   "source": [
    "dfdb = getResults()\n",
    "dfdb.head()"
   ]
  },
  {
   "cell_type": "code",
   "execution_count": 18,
   "metadata": {},
   "outputs": [
    {
     "data": {
      "text/plain": [
       "815"
      ]
     },
     "execution_count": 18,
     "metadata": {},
     "output_type": "execute_result"
    }
   ],
   "source": [
    "len(dfdb['resultid'])"
   ]
  },
  {
   "cell_type": "code",
   "execution_count": 24,
   "metadata": {},
   "outputs": [],
   "source": [
    "outfile = '../resultsT2Data.csv'\n",
    "dfdb.to_csv(outfile, header=True, index=False)"
   ]
  },
  {
   "cell_type": "code",
   "execution_count": 4,
   "metadata": {},
   "outputs": [
    {
     "data": {
      "text/plain": [
       "18171"
      ]
     },
     "execution_count": 4,
     "metadata": {},
     "output_type": "execute_result"
    }
   ],
   "source": [
    "len(np.unique(np.array(dfdb['valueid'])))"
   ]
  },
  {
   "cell_type": "code",
   "execution_count": 5,
   "metadata": {},
   "outputs": [
    {
     "data": {
      "text/plain": [
       "18171"
      ]
     },
     "execution_count": 5,
     "metadata": {},
     "output_type": "execute_result"
    }
   ],
   "source": [
    "len(dfdb['valueid'])"
   ]
  },
  {
   "cell_type": "code",
   "execution_count": 6,
   "metadata": {},
   "outputs": [
    {
     "data": {
      "text/plain": [
       "18171"
      ]
     },
     "execution_count": 6,
     "metadata": {},
     "output_type": "execute_result"
    }
   ],
   "source": [
    "len(np.unique(np.array(dfdb['resultid'])))"
   ]
  },
  {
   "cell_type": "code",
   "execution_count": 7,
   "metadata": {},
   "outputs": [
    {
     "data": {
      "text/plain": [
       "18171"
      ]
     },
     "execution_count": 7,
     "metadata": {},
     "output_type": "execute_result"
    }
   ],
   "source": [
    "len(dfdb['resultid'])"
   ]
  },
  {
   "cell_type": "code",
   "execution_count": 8,
   "metadata": {},
   "outputs": [],
   "source": [
    "def getActions():\n",
    "    try:\n",
    "        conn = psycopg2.connect(\"dbname='ncpfast_dev' user='django_dev' host='ncpfast-db.edc.renci.org' port='5432'\")\n",
    "        cur = conn.cursor()\n",
    "        \n",
    "        cur.execute(\"\"\"SET CLIENT_ENCODING TO UTF8\"\"\")\n",
    "        cur.execute(\"\"\"SET STANDARD_CONFORMING_STRINGS TO ON\"\"\")\n",
    "        cur.execute(\"\"\"BEGIN\"\"\")\n",
    "        cur.execute(\"\"\"SELECT DISTINCT r.resultid, r.resultdatetime, rv.valueid, rv.datavalue, rv.valuedatetime,\n",
    "                                       a.actionid, a.begin_datetime, a.end_datetime, a.methodid\n",
    "                       FROM results r \n",
    "                       INNER JOIN measurement_result_values rv ON r.resultid=rv.resultid\n",
    "                       INNER JOIN feature_actions fa ON r.featureactionid=fa.featureactionid\n",
    "                       INNER JOIN actions a ON fa.actionid=a.actionid\n",
    "                       INNER JOIN sampling_features sf ON fa.samplingfeatureid=sf.samplingfeatureid\n",
    "                       WHERE sf.samplingfeaturecode LIKE 'NC%'\"\"\")\n",
    "        rows = cur.fetchall()\n",
    "        #WHERE sf.samplingfeaturecode LIKE 'GB%' OR sf.samplingfeaturecode LIKE 'MC%'\n",
    "        \n",
    "        df = pd.DataFrame(columns = ['resultid', 'resultdatetime', 'valueid', 'datavalue', 'valuedatetime',\n",
    "                                     'actionid', 'begin_datetime', 'end_datetime', 'methodid']) \n",
    "        \n",
    "        for row in rows:\n",
    "            df = df.append({'resultid': row[0], 'resultdatetime': row[1], 'valueid': row[2], \n",
    "                            'datavalue': row[3], 'valuedatetime': row[4], 'actionid': row[5], \n",
    "                            'begin_datetime': row[6], 'end_datetime': row[7], 'methodid': row[8]}, \n",
    "                            ignore_index = True)\n",
    "\n",
    "        return df\n",
    "    \n",
    "    except (Exception, psycopg2.DatabaseError) as error:\n",
    "        print(error)\n",
    "    finally:\n",
    "        if cur is not None:\n",
    "            cur.close()\n",
    "        if conn is not None:\n",
    "            conn.close()"
   ]
  },
  {
   "cell_type": "code",
   "execution_count": 9,
   "metadata": {},
   "outputs": [
    {
     "data": {
      "text/html": [
       "<div>\n",
       "<style scoped>\n",
       "    .dataframe tbody tr th:only-of-type {\n",
       "        vertical-align: middle;\n",
       "    }\n",
       "\n",
       "    .dataframe tbody tr th {\n",
       "        vertical-align: top;\n",
       "    }\n",
       "\n",
       "    .dataframe thead th {\n",
       "        text-align: right;\n",
       "    }\n",
       "</style>\n",
       "<table border=\"1\" class=\"dataframe\">\n",
       "  <thead>\n",
       "    <tr style=\"text-align: right;\">\n",
       "      <th></th>\n",
       "      <th>resultid</th>\n",
       "      <th>resultdatetime</th>\n",
       "      <th>valueid</th>\n",
       "      <th>datavalue</th>\n",
       "      <th>valuedatetime</th>\n",
       "      <th>actionid</th>\n",
       "      <th>begin_datetime</th>\n",
       "      <th>end_datetime</th>\n",
       "      <th>methodid</th>\n",
       "    </tr>\n",
       "  </thead>\n",
       "  <tbody>\n",
       "    <tr>\n",
       "      <th>0</th>\n",
       "      <td>20619</td>\n",
       "      <td>2019-08-12 12:00:00-04:00</td>\n",
       "      <td>10591</td>\n",
       "      <td>1.0</td>\n",
       "      <td>2019-08-12 12:00:00-04:00</td>\n",
       "      <td>403</td>\n",
       "      <td>2019-08-12 00:00:00-04:00</td>\n",
       "      <td>2019-08-12 23:59:59-04:00</td>\n",
       "      <td>10005</td>\n",
       "    </tr>\n",
       "    <tr>\n",
       "      <th>1</th>\n",
       "      <td>15037</td>\n",
       "      <td>2019-05-07 12:00:00-04:00</td>\n",
       "      <td>5009</td>\n",
       "      <td>1.0</td>\n",
       "      <td>2019-05-07 12:00:00-04:00</td>\n",
       "      <td>284</td>\n",
       "      <td>2019-05-07 00:00:00-04:00</td>\n",
       "      <td>2019-05-07 23:59:59-04:00</td>\n",
       "      <td>10003</td>\n",
       "    </tr>\n",
       "    <tr>\n",
       "      <th>2</th>\n",
       "      <td>12421</td>\n",
       "      <td>2019-07-17 12:00:00-04:00</td>\n",
       "      <td>2393</td>\n",
       "      <td>2.0</td>\n",
       "      <td>2019-07-17 12:00:00-04:00</td>\n",
       "      <td>228</td>\n",
       "      <td>2019-07-17 00:00:00-04:00</td>\n",
       "      <td>2019-07-17 23:59:59-04:00</td>\n",
       "      <td>10003</td>\n",
       "    </tr>\n",
       "    <tr>\n",
       "      <th>3</th>\n",
       "      <td>14175</td>\n",
       "      <td>2019-08-20 12:00:00-04:00</td>\n",
       "      <td>4147</td>\n",
       "      <td>1.0</td>\n",
       "      <td>2019-08-20 12:00:00-04:00</td>\n",
       "      <td>265</td>\n",
       "      <td>2019-08-20 00:00:00-04:00</td>\n",
       "      <td>2019-08-20 23:59:59-04:00</td>\n",
       "      <td>10003</td>\n",
       "    </tr>\n",
       "    <tr>\n",
       "      <th>4</th>\n",
       "      <td>13363</td>\n",
       "      <td>2019-04-10 12:00:00-04:00</td>\n",
       "      <td>3335</td>\n",
       "      <td>1.0</td>\n",
       "      <td>2019-04-10 12:00:00-04:00</td>\n",
       "      <td>248</td>\n",
       "      <td>2019-04-10 00:00:00-04:00</td>\n",
       "      <td>2019-04-10 23:59:59-04:00</td>\n",
       "      <td>10003</td>\n",
       "    </tr>\n",
       "  </tbody>\n",
       "</table>\n",
       "</div>"
      ],
      "text/plain": [
       "  resultid             resultdatetime valueid  datavalue  \\\n",
       "0    20619  2019-08-12 12:00:00-04:00   10591        1.0   \n",
       "1    15037  2019-05-07 12:00:00-04:00    5009        1.0   \n",
       "2    12421  2019-07-17 12:00:00-04:00    2393        2.0   \n",
       "3    14175  2019-08-20 12:00:00-04:00    4147        1.0   \n",
       "4    13363  2019-04-10 12:00:00-04:00    3335        1.0   \n",
       "\n",
       "               valuedatetime actionid             begin_datetime  \\\n",
       "0  2019-08-12 12:00:00-04:00      403  2019-08-12 00:00:00-04:00   \n",
       "1  2019-05-07 12:00:00-04:00      284  2019-05-07 00:00:00-04:00   \n",
       "2  2019-07-17 12:00:00-04:00      228  2019-07-17 00:00:00-04:00   \n",
       "3  2019-08-20 12:00:00-04:00      265  2019-08-20 00:00:00-04:00   \n",
       "4  2019-04-10 12:00:00-04:00      248  2019-04-10 00:00:00-04:00   \n",
       "\n",
       "                end_datetime methodid  \n",
       "0  2019-08-12 23:59:59-04:00    10005  \n",
       "1  2019-05-07 23:59:59-04:00    10003  \n",
       "2  2019-07-17 23:59:59-04:00    10003  \n",
       "3  2019-08-20 23:59:59-04:00    10003  \n",
       "4  2019-04-10 23:59:59-04:00    10003  "
      ]
     },
     "execution_count": 9,
     "metadata": {},
     "output_type": "execute_result"
    }
   ],
   "source": [
    "dfdb = getActions()\n",
    "dfdb.head()"
   ]
  },
  {
   "cell_type": "code",
   "execution_count": 10,
   "metadata": {},
   "outputs": [
    {
     "data": {
      "text/plain": [
       "380"
      ]
     },
     "execution_count": 10,
     "metadata": {},
     "output_type": "execute_result"
    }
   ],
   "source": [
    "len(np.unique(np.array(dfdb['actionid'])))"
   ]
  },
  {
   "cell_type": "code",
   "execution_count": 11,
   "metadata": {},
   "outputs": [
    {
     "data": {
      "text/plain": [
       "18171"
      ]
     },
     "execution_count": 11,
     "metadata": {},
     "output_type": "execute_result"
    }
   ],
   "source": [
    "len(dfdb['actionid'])"
   ]
  },
  {
   "cell_type": "code",
   "execution_count": 12,
   "metadata": {},
   "outputs": [
    {
     "data": {
      "text/plain": [
       "44"
      ]
     },
     "execution_count": 12,
     "metadata": {},
     "output_type": "execute_result"
    }
   ],
   "source": [
    "len(np.unique(np.array(dfdb['end_datetime'])))"
   ]
  },
  {
   "cell_type": "code",
   "execution_count": 13,
   "metadata": {},
   "outputs": [],
   "source": [
    "def getFeatures():\n",
    "    try:\n",
    "        conn = psycopg2.connect(\"dbname='ncpfast_dev' user='django_dev' host='ncpfast-db.edc.renci.org' port='5432'\")\n",
    "        cur = conn.cursor()\n",
    "        \n",
    "        cur.execute(\"\"\"SET CLIENT_ENCODING TO UTF8\"\"\")\n",
    "        cur.execute(\"\"\"SET STANDARD_CONFORMING_STRINGS TO ON\"\"\")\n",
    "        cur.execute(\"\"\"BEGIN\"\"\")\n",
    "        cur.execute(\"\"\"SELECT DISTINCT r.resultid, r.resultdatetime, rv.valueid, rv.datavalue, rv.valuedatetime,\n",
    "                                       a.actionid, a.begin_datetime, a.end_datetime, a.methodid,\n",
    "                                        sf.samplingfeatureid, ST_X(ST_AsText(sf.featuregeometry))\n",
    "                       FROM results r \n",
    "                       INNER JOIN measurement_result_values rv ON r.resultid=rv.resultid\n",
    "                       INNER JOIN feature_actions fa ON r.featureactionid=fa.featureactionid\n",
    "                       INNER JOIN actions a ON fa.actionid=a.actionid\n",
    "                       INNER JOIN sampling_features sf ON fa.samplingfeatureid=sf.samplingfeatureid\n",
    "                       WHERE sf.samplingfeaturecode LIKE 'NC%'\"\"\")\n",
    "        rows = cur.fetchall()\n",
    "        #WHERE sf.samplingfeaturecode LIKE 'GB%' OR sf.samplingfeaturecode LIKE 'MC%'\n",
    "        \n",
    "        df = pd.DataFrame(columns = ['resultid', 'resultdatetime', 'valueid', 'datavalue', 'valuedatetime',\n",
    "                                     'actionid', 'begin_datetime', 'end_datetime', 'methodid',\n",
    "                                      'samplingfeatureid', 'lon']) \n",
    "        \n",
    "        for row in rows:\n",
    "            df = df.append({'resultid': row[0], 'resultdatetime': row[1], 'valueid': row[2], \n",
    "                            'datavalue': row[3], 'valuedatetime': row[4], 'actionid': row[5], \n",
    "                            'begin_datetime': row[6], 'end_datetime': row[7], 'methodid': row[8],\n",
    "                            'samplingfeatureid': row[9], 'lon': row[10]},\n",
    "                            ignore_index = True)\n",
    "\n",
    "        return df\n",
    "    \n",
    "    except (Exception, psycopg2.DatabaseError) as error:\n",
    "        print(error)\n",
    "    finally:\n",
    "        if cur is not None:\n",
    "            cur.close()\n",
    "        if conn is not None:\n",
    "            conn.close()"
   ]
  },
  {
   "cell_type": "code",
   "execution_count": 14,
   "metadata": {},
   "outputs": [
    {
     "data": {
      "text/html": [
       "<div>\n",
       "<style scoped>\n",
       "    .dataframe tbody tr th:only-of-type {\n",
       "        vertical-align: middle;\n",
       "    }\n",
       "\n",
       "    .dataframe tbody tr th {\n",
       "        vertical-align: top;\n",
       "    }\n",
       "\n",
       "    .dataframe thead th {\n",
       "        text-align: right;\n",
       "    }\n",
       "</style>\n",
       "<table border=\"1\" class=\"dataframe\">\n",
       "  <thead>\n",
       "    <tr style=\"text-align: right;\">\n",
       "      <th></th>\n",
       "      <th>resultid</th>\n",
       "      <th>resultdatetime</th>\n",
       "      <th>valueid</th>\n",
       "      <th>datavalue</th>\n",
       "      <th>valuedatetime</th>\n",
       "      <th>actionid</th>\n",
       "      <th>begin_datetime</th>\n",
       "      <th>end_datetime</th>\n",
       "      <th>methodid</th>\n",
       "      <th>samplingfeatureid</th>\n",
       "      <th>lon</th>\n",
       "    </tr>\n",
       "  </thead>\n",
       "  <tbody>\n",
       "    <tr>\n",
       "      <th>0</th>\n",
       "      <td>10919</td>\n",
       "      <td>2019-07-02 12:00:00-04:00</td>\n",
       "      <td>891</td>\n",
       "      <td>1.0</td>\n",
       "      <td>2019-07-02 12:00:00-04:00</td>\n",
       "      <td>196</td>\n",
       "      <td>2019-07-02 00:00:00-04:00</td>\n",
       "      <td>2019-07-02 23:59:59-04:00</td>\n",
       "      <td>10003</td>\n",
       "      <td>18882</td>\n",
       "      <td>-81.134111</td>\n",
       "    </tr>\n",
       "    <tr>\n",
       "      <th>1</th>\n",
       "      <td>10920</td>\n",
       "      <td>2019-07-02 12:00:00-04:00</td>\n",
       "      <td>892</td>\n",
       "      <td>5.0</td>\n",
       "      <td>2019-07-02 12:00:00-04:00</td>\n",
       "      <td>196</td>\n",
       "      <td>2019-07-02 00:00:00-04:00</td>\n",
       "      <td>2019-07-02 23:59:59-04:00</td>\n",
       "      <td>10003</td>\n",
       "      <td>18882</td>\n",
       "      <td>-81.134111</td>\n",
       "    </tr>\n",
       "    <tr>\n",
       "      <th>2</th>\n",
       "      <td>10921</td>\n",
       "      <td>2019-07-02 12:00:00-04:00</td>\n",
       "      <td>893</td>\n",
       "      <td>10.0</td>\n",
       "      <td>2019-07-02 12:00:00-04:00</td>\n",
       "      <td>196</td>\n",
       "      <td>2019-07-02 00:00:00-04:00</td>\n",
       "      <td>2019-07-02 23:59:59-04:00</td>\n",
       "      <td>10003</td>\n",
       "      <td>18882</td>\n",
       "      <td>-81.134111</td>\n",
       "    </tr>\n",
       "    <tr>\n",
       "      <th>3</th>\n",
       "      <td>10922</td>\n",
       "      <td>2019-07-02 12:00:00-04:00</td>\n",
       "      <td>894</td>\n",
       "      <td>2.0</td>\n",
       "      <td>2019-07-02 12:00:00-04:00</td>\n",
       "      <td>196</td>\n",
       "      <td>2019-07-02 00:00:00-04:00</td>\n",
       "      <td>2019-07-02 23:59:59-04:00</td>\n",
       "      <td>10003</td>\n",
       "      <td>18882</td>\n",
       "      <td>-81.134111</td>\n",
       "    </tr>\n",
       "    <tr>\n",
       "      <th>4</th>\n",
       "      <td>10923</td>\n",
       "      <td>2019-07-02 12:00:00-04:00</td>\n",
       "      <td>895</td>\n",
       "      <td>2.0</td>\n",
       "      <td>2019-07-02 12:00:00-04:00</td>\n",
       "      <td>196</td>\n",
       "      <td>2019-07-02 00:00:00-04:00</td>\n",
       "      <td>2019-07-02 23:59:59-04:00</td>\n",
       "      <td>10003</td>\n",
       "      <td>18882</td>\n",
       "      <td>-81.134111</td>\n",
       "    </tr>\n",
       "  </tbody>\n",
       "</table>\n",
       "</div>"
      ],
      "text/plain": [
       "  resultid             resultdatetime valueid  datavalue  \\\n",
       "0    10919  2019-07-02 12:00:00-04:00     891        1.0   \n",
       "1    10920  2019-07-02 12:00:00-04:00     892        5.0   \n",
       "2    10921  2019-07-02 12:00:00-04:00     893       10.0   \n",
       "3    10922  2019-07-02 12:00:00-04:00     894        2.0   \n",
       "4    10923  2019-07-02 12:00:00-04:00     895        2.0   \n",
       "\n",
       "               valuedatetime actionid             begin_datetime  \\\n",
       "0  2019-07-02 12:00:00-04:00      196  2019-07-02 00:00:00-04:00   \n",
       "1  2019-07-02 12:00:00-04:00      196  2019-07-02 00:00:00-04:00   \n",
       "2  2019-07-02 12:00:00-04:00      196  2019-07-02 00:00:00-04:00   \n",
       "3  2019-07-02 12:00:00-04:00      196  2019-07-02 00:00:00-04:00   \n",
       "4  2019-07-02 12:00:00-04:00      196  2019-07-02 00:00:00-04:00   \n",
       "\n",
       "                end_datetime methodid samplingfeatureid        lon  \n",
       "0  2019-07-02 23:59:59-04:00    10003             18882 -81.134111  \n",
       "1  2019-07-02 23:59:59-04:00    10003             18882 -81.134111  \n",
       "2  2019-07-02 23:59:59-04:00    10003             18882 -81.134111  \n",
       "3  2019-07-02 23:59:59-04:00    10003             18882 -81.134111  \n",
       "4  2019-07-02 23:59:59-04:00    10003             18882 -81.134111  "
      ]
     },
     "execution_count": 14,
     "metadata": {},
     "output_type": "execute_result"
    }
   ],
   "source": [
    "dfdb = getFeatures()\n",
    "dfdb.head()"
   ]
  },
  {
   "cell_type": "code",
   "execution_count": 15,
   "metadata": {},
   "outputs": [
    {
     "data": {
      "text/plain": [
       "array([-79.47892666, -78.02686657, -76.35896649, ..., -77.30003197,\n",
       "       -82.22916199, -78.74967816])"
      ]
     },
     "execution_count": 15,
     "metadata": {},
     "output_type": "execute_result"
    }
   ],
   "source": [
    "np.array(dfdb['lon'])"
   ]
  },
  {
   "cell_type": "code",
   "execution_count": 16,
   "metadata": {},
   "outputs": [
    {
     "data": {
      "text/plain": [
       "380"
      ]
     },
     "execution_count": 16,
     "metadata": {},
     "output_type": "execute_result"
    }
   ],
   "source": [
    "len(np.unique(np.array(dfdb['samplingfeatureid'])))"
   ]
  },
  {
   "cell_type": "code",
   "execution_count": null,
   "metadata": {},
   "outputs": [],
   "source": []
  }
 ],
 "metadata": {
  "kernelspec": {
   "display_name": "Python 3",
   "language": "python",
   "name": "python3"
  },
  "language_info": {
   "codemirror_mode": {
    "name": "ipython",
    "version": 3
   },
   "file_extension": ".py",
   "mimetype": "text/x-python",
   "name": "python",
   "nbconvert_exporter": "python",
   "pygments_lexer": "ipython3",
   "version": "3.7.8"
  }
 },
 "nbformat": 4,
 "nbformat_minor": 4
}
