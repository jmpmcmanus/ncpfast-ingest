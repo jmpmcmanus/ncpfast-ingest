{
 "cells": [
  {
   "cell_type": "code",
   "execution_count": 1,
   "id": "spare-channels",
   "metadata": {},
   "outputs": [],
   "source": [
    "import psycopg2, sys, pytz, re\n",
    "from datetime import datetime\n",
    "import pandas as pd"
   ]
  },
  {
   "cell_type": "code",
   "execution_count": 2,
   "id": "guided-emperor",
   "metadata": {},
   "outputs": [],
   "source": [
    "def updateT1Datasets():\n",
    "    try:\n",
    "        conn = psycopg2.connect(\"dbname='ncpfast_dev' user='django_dev' host='ncpfast-db.edc.renci.org' port='5432'\")\n",
    "        cur = conn.cursor()\n",
    "        \n",
    "        cur.execute(\"\"\"SET CLIENT_ENCODING TO UTF8\"\"\")\n",
    "        cur.execute(\"\"\"SET STANDARD_CONFORMING_STRINGS TO ON\"\"\")\n",
    "        cur.execute(\"\"\"BEGIN\"\"\")\n",
    "        cur.execute(\"\"\"SELECT DISTINCT samplingfeaturecode FROM team1_results_methods\"\"\")\n",
    "        frows = cur.fetchall()\n",
    "        \n",
    "        for frow in frows:\n",
    "            dsamplingfeaturecode = frow[0]\n",
    "\n",
    "            cur.execute(\"\"\"SELECT DISTINCT datasetcode, samplingfeaturename, resultdatetime\n",
    "                           FROM team1_results_methods \n",
    "                           WHERE samplingfeaturecode = %(vsamplingfeaturecode)s\"\"\",\n",
    "                        {'vsamplingfeaturecode': dsamplingfeaturecode})\n",
    "            try:\n",
    "                drow = cur.fetchall()\n",
    "                ddatasetcode = drow[0][0]\n",
    "                \n",
    "                samplingfeaturename = drow[0][1].split(',')\n",
    "                if len(samplingfeaturename) > 1:\n",
    "                    splitnum = re.split('-1| - 1|-2| - 2', samplingfeaturename[1])\n",
    "                    \n",
    "                    samplingfeaturename = splitnum[0].strip().capitalize()+' '+samplingfeaturename[0].title()\n",
    "                else:\n",
    "                    samplingfeaturename = samplingfeaturename[0].split('CITY')\n",
    "                    if len(samplingfeaturename) > 1:\n",
    "                        splitnum = re.split('-1| - 1|-2| - 2|-3', samplingfeaturename[1])\n",
    "                        samplingfeaturename = 'City '+splitnum[0].strip()+' '+samplingfeaturename[0].title()\n",
    "                    else:  \n",
    "                        samplingfeaturename = samplingfeaturename[0].capitalize()\n",
    "                    \n",
    "                resultdatetime = drow[0][2]\n",
    "                resultdatetime = str(resultdatetime.strftime(\"%B\"))+' '+str(resultdatetime.day)+', '+str(resultdatetime.year)\n",
    "\n",
    "            except:\n",
    "                sys.exit('Error on datasetcode')\n",
    "                \n",
    "            dlab = ddatasetcode.split('_')[1]\n",
    "            \n",
    "            if dlab == 'Knappe':\n",
    "                try:\n",
    "                    datasettitle = dsamplingfeaturecode[:-9]+': Stream and well measurements from '+samplingfeaturename+' site on '+resultdatetime\n",
    "                    datasetabstract = 'Team 1 stream and well measurements from Dr. Knappe Lab at NCSU at station '+dsamplingfeaturecode[:-9]\n",
    "                except:\n",
    "                    sys.exit('Error on dsamplingfeaturecode')\n",
    "            elif dlab == 'Ferguson':\n",
    "                try:\n",
    "                    datasettitle = dsamplingfeaturecode[:-9]+': Stream and well measurements from '+samplingfeaturename+' site on '+resultdatetime\n",
    "                    datasetabstract = 'Team 1 stream and well measurements from Dr. Ferguson Lab at Duke University at station '+dsamplingfeaturecode[:-9]\n",
    "                except:\n",
    "                    sys.exit('Error on dsamplingfeaturecode')\n",
    "            \n",
    "            cur.execute(\"\"\"UPDATE datasets\n",
    "                               SET datasettitle = %(vdatasettitle)s, \n",
    "                                   datasetabstract = %(vdatasetabstract)s\n",
    "                           WHERE datasetcode = %(vdatasetcode)s\"\"\",\n",
    "                        {'vdatasetcode':ddatasetcode,'vdatasettitle':datasettitle,\n",
    "                         'vdatasetabstract':datasetabstract})\n",
    "\n",
    "            conn.commit()\n",
    "\n",
    "        cur.execute(\"\"\"ANALYZE datasets\"\"\")\n",
    "        \n",
    "    except (Exception, psycopg2.DatabaseError) as error:\n",
    "        print(error)\n",
    "    finally:\n",
    "        if cur is not None:\n",
    "            cur.close()\n",
    "        if conn is not None:\n",
    "            conn.close()\n"
   ]
  },
  {
   "cell_type": "code",
   "execution_count": 3,
   "id": "numerical-model",
   "metadata": {},
   "outputs": [],
   "source": [
    "updateT1Datasets()"
   ]
  },
  {
   "cell_type": "code",
   "execution_count": null,
   "id": "computational-pharmacology",
   "metadata": {},
   "outputs": [],
   "source": []
  }
 ],
 "metadata": {
  "kernelspec": {
   "display_name": "Python 3",
   "language": "python",
   "name": "python3"
  },
  "language_info": {
   "codemirror_mode": {
    "name": "ipython",
    "version": 3
   },
   "file_extension": ".py",
   "mimetype": "text/x-python",
   "name": "python",
   "nbconvert_exporter": "python",
   "pygments_lexer": "ipython3",
   "version": "3.7.9"
  }
 },
 "nbformat": 4,
 "nbformat_minor": 5
}
